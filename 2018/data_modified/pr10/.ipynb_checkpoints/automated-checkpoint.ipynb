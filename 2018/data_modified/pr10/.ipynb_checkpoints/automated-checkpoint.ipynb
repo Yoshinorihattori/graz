{
 "cells": [
  {
   "cell_type": "code",
   "execution_count": 1,
   "metadata": {},
   "outputs": [],
   "source": [
    "#calcuration libraries\n",
    "import numpy as np\n",
    "import pandas as pd\n",
    "import matplotlib.pyplot as plt\n",
    "import math\n",
    "import csv\n",
    "%matplotlib inline"
   ]
  },
  {
   "cell_type": "code",
   "execution_count": 2,
   "metadata": {},
   "outputs": [],
   "source": [
    "A = 0.818;\n",
    "B = 3.664E-3;\n",
    "def cp(T):\n",
    "    cp = (A + B * (T+273.15));\n",
    "    return cp\n",
    "\n",
    "# 取り出したい列を（0始まりで）指定する．\n",
    "filename = './pr50_csv/Daten_19.11.2018_15.34.54.csv'\n",
    "data = np.array(pd.read_csv(filename, skiprows=0, encoding='shift-jis'))"
   ]
  },
  {
   "cell_type": "code",
   "execution_count": 3,
   "metadata": {},
   "outputs": [],
   "source": [
    "TPT100_i = data[:5,30]\n",
    "TPT100 = TPT100_i"
   ]
  },
  {
   "cell_type": "code",
   "execution_count": 4,
   "metadata": {},
   "outputs": [
    {
     "data": {
      "text/plain": [
       "array([112.215832, 113.492515, 113.637365,  91.756657,  88.600207])"
      ]
     },
     "execution_count": 4,
     "metadata": {},
     "output_type": "execute_result"
    }
   ],
   "source": [
    "TPT100"
   ]
  },
  {
   "cell_type": "code",
   "execution_count": null,
   "metadata": {},
   "outputs": [],
   "source": [
    "for i in range():\n",
    "    a = TPT100"
   ]
  }
 ],
 "metadata": {
  "kernelspec": {
   "display_name": "Python 3",
   "language": "python",
   "name": "python3"
  },
  "language_info": {
   "codemirror_mode": {
    "name": "ipython",
    "version": 3
   },
   "file_extension": ".py",
   "mimetype": "text/x-python",
   "name": "python",
   "nbconvert_exporter": "python",
   "pygments_lexer": "ipython3",
   "version": "3.6.4"
  }
 },
 "nbformat": 4,
 "nbformat_minor": 2
}
