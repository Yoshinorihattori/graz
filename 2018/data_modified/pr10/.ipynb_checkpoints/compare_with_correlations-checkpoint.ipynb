{
 "cells": [
  {
   "cell_type": "code",
   "execution_count": 1,
   "metadata": {},
   "outputs": [],
   "source": [
    "#calcuration libraries\n",
    "import numpy as np\n",
    "import pandas as pd\n",
    "import matplotlib.pyplot as plt\n",
    "import math\n",
    "import csv\n",
    "import os\n",
    "%matplotlib inline\n",
    "import time\n",
    "timestr = time.strftime(\"%d.%m.%Y_%H.%M.%S.\")"
   ]
  },
  {
   "cell_type": "code",
   "execution_count": 2,
   "metadata": {},
   "outputs": [],
   "source": [
    "# Material properties for Ethylen Glycol\n",
    "A = 2.0148;\n",
    "B = 4.50E-3;\n",
    "def cp(T):\n",
    "    cp = (A + B * (T+273.15));\n",
    "    return cp\n",
    "def cp_K(T):\n",
    "    cp_K = A + B * (T);\n",
    "    cp_K =  cp_K *1000;##???\n",
    "    return cp_K\n",
    "\n",
    "C = 0.2134;\n",
    "D = 6.071E-4;\n",
    "def Lambda(T):\n",
    "    Lambda = C + D * (T+273.15);\n",
    "    return Lambda\n",
    "def Lambda_K(T):\n",
    "    Lambda_K = C + D * (T);\n",
    "    return Lambda_K\n",
    "\n",
    "E = 1.1001E-4;\n",
    "F = 325.85;\n",
    "G = -207.30;\n",
    "def mu(T):\n",
    "    mu = E * np.exp( F / ( (T+273.15) + G) );\n",
    "    return mu\n",
    "def mu_K(T):\n",
    "    mu_K = E * np.exp( F / ( (T) + G) );\n",
    "    return mu_K\n",
    "\n",
    "H = 1268.28;\n",
    "I = -0.66;\n",
    "def rho(T):\n",
    "    rho = H + I * (T+273.15);\n",
    "    return rho\n",
    "def rho_K(T):\n",
    "    rho_K = H + I * (T);\n",
    "    return rho_K\n",
    "\n",
    "def nu(T):\n",
    "    nu = mu(T)/rho(T);\n",
    "    return nu\n",
    "def nu_K(T):\n",
    "    nu = mu_K(T)/rho_K(T);\n",
    "    return nu\n",
    "\n",
    "def Pr(T):\n",
    "    Pr = ( mu(T) * cp(T) * 1000 ) / Lambda(T);\n",
    "    return Pr\n",
    "def Pr_K(T):\n",
    "    Pr = ( mu_K(T) * cp_K(T)) / Lambda_K(T);\n",
    "    return Pr"
   ]
  },
  {
   "cell_type": "code",
   "execution_count": 3,
   "metadata": {},
   "outputs": [],
   "source": [
    "Pr_correlation = 10\n",
    "di = 0.012\n",
    "L = 2\n",
    "Tm = 66.4427\n",
    "Tw = 69.2297"
   ]
  },
  {
   "cell_type": "code",
   "execution_count": 4,
   "metadata": {},
   "outputs": [],
   "source": [
    "Pr_w = Pr(Tw)\n",
    "Pr_w     = Pr(Tw)\n",
    "rho_w    = rho(Tw)\n",
    "nu_w     = nu(Tw)\n",
    "mu_w     = nu_w * rho_w\n",
    "cp_w     = cp(Tw)\n",
    "Lambda_w = Lambda(Tw)\n",
    "Pr_m     = Pr(Tm)\n",
    "rho_m    = rho(Tm)\n",
    "nu_m     = nu(Tm)\n",
    "mu_m     = nu_m * rho_m\n",
    "cp_m     = cp(Tm)\n",
    "Lambda_m = Lambda(Tm)"
   ]
  },
  {
   "cell_type": "code",
   "execution_count": 9,
   "metadata": {},
   "outputs": [
    {
     "name": "stdout",
     "output_type": "stream",
     "text": [
      "[1.07440982 1.07284969 1.07172322 1.07091052 1.07033512 1.06994554\n",
      " 1.0697056  1.06958905 1.06957629 1.06965234 1.06980557 1.07002678\n",
      " 1.07030856 1.07064495 1.07103102 1.07146271 1.07193665 1.07245\n",
      " 1.07300037 1.07358574 1.07420438 1.07485482 1.07553583 1.07624633\n",
      " 1.0769854  1.07775228 1.07854629 1.07936688 1.08021358 1.08108599\n",
      " 1.08198379 1.08290671 1.08385454 1.08482713 1.08582436 1.08684616\n",
      " 1.08789248 1.08896332 1.09005871 1.0911787  1.09232337 1.09349282\n",
      " 1.09468719 1.09590661 1.09715127 1.09842133 1.09971701 1.10103854\n",
      " 1.10238614 1.10376007] [1.10514074 1.13524909 1.16165566 1.18523122 1.20656589 1.2260791\n",
      " 1.24408022 1.26080432 1.27643443 1.29111601 1.30496666 1.3180829\n",
      " 1.33054497 1.34242032 1.35376624 1.36463183 1.37505949 1.3850861\n",
      " 1.39474396 1.40406154 1.41306403 1.42177386 1.43021109 1.43839374\n",
      " 1.44633805 1.4540587  1.46156904 1.46888123 1.47600635 1.48295459\n",
      " 1.48973528 1.49635702 1.50282775 1.50915482 1.51534502 1.52140468\n",
      " 1.52733968 1.53315549 1.53885725 1.54444973 1.54993742 1.55532453\n",
      " 1.560615   1.56581255 1.57092069 1.57594271 1.58088172 1.58574069\n",
      " 1.59052239 1.59522946] 1.0071400724104662\n"
     ]
    }
   ],
   "source": [
    "Re_lam = np.linspace(1,2300,)\n",
    "Re_tran = np.linspace(2300,10000,)\n",
    "Re_turb = np.linspace(10000,100000,)\n",
    "#laminar\n",
    "Nu_lam1 = 3.66\n",
    "Nu_lam2 = 0.7\n",
    "Nu_lam3 = 1.615 * (Re_lam * Pr_correlation * di / L)**(1/3)\n",
    "Nu_lam = (Nu_lam1**3 + Nu_lam2**3 + Nu_lam3**3)**(1/3)\n",
    "#turbulent\n",
    "xi = (1.8 * np.log10(Re_turb) - 1.5)**(-2)\n",
    "Nu_turb = ((xi/8 * Re_turb * Pr_correlation) / (1 + 12.7 * (xi/8)**0.5 * (Pr_correlation**(2/3) - 1))) * (1 + (di/L)**(2/3))\n",
    "#transitional\n",
    "c1 = Nu_lam[49]\n",
    "c2 = Nu_turb[0]\n",
    "r = (Re_tran - 2300) / (10**4 - 2300)\n",
    "Nu_tran = (1 - r) * c1 + r * c2\n",
    "\n",
    "#Dittus_Boelter correlation\n",
    "NuDB = 0.027*Re_turb**0.8 * Pr_correlation**0.4\n",
    "#Entrance factor\n",
    "entrance_section = 1.2\n",
    "n = 2.08E-6 * Re_turb - 0.815\n",
    "Nu_entrance = 1 + 23.99 * Re_turb **(-0.23) * (entrance_section / di)**n\n",
    "#Roughness factor\n",
    "epcylon = 3.2E-6 #assumed\n",
    "Nu_roughness = 0.091 * (epcylon / di)**(-0.125) * Re_turb**(0.363*(epcylon/di)**0.1)\n",
    "#Viscosity factor\n",
    "Nu_viscosity = (mu_m / mu_w)**0.14\n",
    "#Combining the four factors\n",
    "Nu_Robinson = NuDB * Nu_entrance * Nu_viscosity # * Nu_roughness\n",
    "print(Nu_entrance, Nu_roughness, Nu_viscosity)"
   ]
  },
  {
   "cell_type": "code",
   "execution_count": 10,
   "metadata": {},
   "outputs": [],
   "source": [
    "#Convective coolant heat transfer in internal combusion engines citted by K Robinson\n",
    "#Tf = 0.5*(Tm + Tw)\n",
    "#rho_f = rho(Tf)\n",
    "#nu_f  = nu(Tf)\n",
    "#mu_f  = mu(Tf)\n",
    "#Re_f  = rho_f * v * di / mu_f\n",
    "#Pr_f  = Pr(Tf)\n",
    "#print(Tf, Pr_f,Re_f)"
   ]
  },
  {
   "cell_type": "code",
   "execution_count": 16,
   "metadata": {},
   "outputs": [],
   "source": [
    "#csv_file = open(\"./Bertsche2016_pr10.csv\", \"r\", encoding=\"ms932\", errors=\"\", newline=\"\" )\n",
    "#f = csv.reader(csv_file, delimiter=\",\", doublequote=True, lineterminator=\"\\r\\n\", quotechar='\"', skipinitialspace=True)"
   ]
  },
  {
   "cell_type": "code",
   "execution_count": 24,
   "metadata": {},
   "outputs": [
    {
     "name": "stdout",
     "output_type": "stream",
     "text": [
      "[  871.1725179   1399.05031414  2041.24828721  2625.85556053\n",
      "  2788.12666541  4067.94432108  4958.06824168  7544.04319997\n",
      " 10554.49600879 12710.61799615 15307.2027039  17889.74567879]\n",
      "[  7.59621092   9.02036021  10.34964309  14.7200894   26.1764319\n",
      "  38.20230365  48.59226737  72.14545143  94.97557692 114.73647221\n",
      " 129.40179435 148.47105381]\n"
     ]
    }
   ],
   "source": [
    "filename = './Bertsche2016_pr10.csv'\n",
    "data = np.array(pd.read_csv(filename, header=None))\n",
    "Re_pr10 = data[:,0]\n",
    "Nu_pr10 = data[:,1]\n",
    "print(Re_pr10)\n",
    "print(Nu_pr10)"
   ]
  },
  {
   "cell_type": "code",
   "execution_count": 36,
   "metadata": {},
   "outputs": [
    {
     "data": {
      "text/plain": [
       "<matplotlib.legend.Legend at 0x1183c85f8>"
      ]
     },
     "execution_count": 36,
     "metadata": {},
     "output_type": "execute_result"
    },
    {
     "data": {
      "image/png": "[encoded data removed]",
      "text/plain": [
       "<matplotlib.figure.Figure at 0x1182acb00>"
      ]
     },
     "metadata": {},
     "output_type": "display_data"
    }
   ],
   "source": [
    "plt.xlim(1000,30000)\n",
    "plt.ylim(1,250)\n",
    "plt.semilogx(Re_lam, Nu_lam, color='green',linestyle=\"dotted\", label=\"Gnielinski correlation\")\n",
    "plt.semilogx(Re_tran, Nu_tran, color='green',linestyle=\"dotted\")#, label=\"Gnielinski for transitional\")\n",
    "plt.semilogx(Re_turb, Nu_turb, color='green',linestyle=\"dotted\")#, label=\"Gnielinski for turbulent\")\n",
    "plt.semilogx(Re_turb, NuDB, color='blue',linestyle=\"dotted\", label=\"Dittus-Boelter\")\n",
    "plt.semilogx(Re_turb, Nu_Robinson, color='red',linestyle=\"dotted\", label=\"K.Robinson (2003)\")\n",
    "plt.errorbar(Re_pr10, Nu_pr10, fmt='.', color='gray', elinewidth=3, capsize=1, label=\"Bertsche (2016)\")\n",
    "\n",
    "#plt.errorbar(9975.5, 145.6218, fmt='.', color='black', elinewidth=3, capsize=1, label=\"Mesurement: Pr_m~30\")#Daten_02.08.2019_11.31.58(Pr=32)\n",
    "#plt.errorbar(5537.1, 89.6160, fmt='.', color='black', elinewidth=3, capsize=1)#Daten_02.08.2019_11.52.52(Pr=30)\n",
    "#plt.errorbar(2580, 23.7527, fmt='.', color='black', elinewidth=3, capsize=1)#Daten_31.07.2019_10.45.33(Pr=30)\n",
    "#plt.errorbar(3594, 44.89, fmt='.', color='black', elinewidth=3, capsize=1)#Daten_29.07.2019_10.20.19(Pr=18)\n",
    "plt.errorbar(16401, 146, fmt='.', color='black', elinewidth=3, capsize=1, label=\"Mesurement: Pr_m~10\")#Daten_05.08.2019_16.09.23(Pr=10)\n",
    "plt.errorbar(16250, 145, fmt='.', color='black', elinewidth=3, capsize=1)\n",
    "plt.errorbar(16370, 145, fmt='.', color='black', elinewidth=3, capsize=1)\n",
    "\n",
    "\n",
    "plt.xlabel(r'Reynolds number Rew$\\,\\mathrm{[-]}$')\n",
    "plt.ylabel(r'Nusselt number Nu$\\,\\mathrm{[-]}$')\n",
    "plt.legend(loc='upper left')"
   ]
  },
  {
   "cell_type": "code",
   "execution_count": null,
   "metadata": {},
   "outputs": [],
   "source": []
  },
  {
   "cell_type": "code",
   "execution_count": null,
   "metadata": {},
   "outputs": [],
   "source": []
  }
 ],
 "metadata": {
  "kernelspec": {
   "display_name": "Python 3",
   "language": "python",
   "name": "python3"
  },
  "language_info": {
   "codemirror_mode": {
    "name": "ipython",
    "version": 3
   },
   "file_extension": ".py",
   "mimetype": "text/x-python",
   "name": "python",
   "nbconvert_exporter": "python",
   "pygments_lexer": "ipython3",
   "version": "3.6.4"
  }
 },
 "nbformat": 4,
 "nbformat_minor": 2
}
