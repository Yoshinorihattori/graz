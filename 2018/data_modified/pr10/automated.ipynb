{
 "cells": [
  {
   "cell_type": "code",
   "execution_count": 3,
   "metadata": {},
   "outputs": [],
   "source": [
    "import numpy as np\n",
    "import pandas as pd\n",
    "import matplotlib.pyplot as plt\n",
    "import math\n",
    "import csv\n",
    "import os\n",
    "%matplotlib inline\n",
    "import time\n",
    "timestr = time.strftime(\"%d.%m.%Y_%H.%M.%S.\")"
   ]
  },
  {
   "cell_type": "code",
   "execution_count": 5,
   "metadata": {},
   "outputs": [
    {
     "name": "stdout",
     "output_type": "stream",
     "text": [
      "./pr10_csv/Daten_15.11.2018_11.11.02.txt.csv\n",
      "./pr10_csv/Daten_15.11.2018_11.09.22.txt.csv\n",
      "./pr10_csv/Daten_15.11.2018_11.09.29.txt.csv\n",
      "./pr10_csv/Daten_15.11.2018_11.09.21.txt.csv\n",
      "./pr10_csv/Daten_15.11.2018_11.11.00.txt.csv\n",
      "./pr10_csv/Daten_15.11.2018_11.11.10.txt.csv\n",
      "./pr10_csv/Daten_15.11.2018_11.11.20.txt.csv\n",
      "./pr10_csv/Daten_15.11.2018_11.08.07.txt.csv\n",
      "./pr10_csv/Daten_15.11.2018_11.09.26.txt.csv\n",
      "./pr10_csv/Daten_15.11.2018_11.11.21.txt.csv\n"
     ]
    }
   ],
   "source": [
    "for fname in os.listdir('pr10'):\n",
    "    df = pd.read_table('./pr10/' + fname, encoding='shift_jis')\n",
    "    df.to_csv('./pr10_csv/' + fname +'.csv')\n",
    "\n",
    "df_list = []\n",
    "df_list2 = []\n",
    "for fname in os.listdir('pr10_csv'):\n",
    "    filename = './pr10_csv/' + fname\n",
    "    if filename == './pr10_csv/.DS_Store':\n",
    "        continue\n",
    "    elif filename == './pr10_csv/.DS_Store.csv':\n",
    "        continue\n",
    "    else:\n",
    "        data = np.array(pd.read_csv(filename, header=None, skiprows=1))\n",
    "        v_C1 = data[0,3]\n",
    "        df_list.append(v_C1)\n",
    "        v_C2 = data[0,4]\n",
    "        df_list2.append(v_C2)\n",
    "        print(filename)\n",
    "\n",
    "a = np.reshape(df_list,(10,1))\n",
    "b = np.reshape(df_list2,(10,1))\n",
    "df_list_all = [a, b]\n",
    "c = np.reshape(df_list_all,(10,2))\n",
    "\n",
    "with open('./List_' + timestr + 'csv', 'w', newline='') as f:# 改行コード（\\n）を指定しておく\n",
    "    writer = csv.writer(f, lineterminator='\\n')\n",
    "    writer.writerows(c)\n",
    "    f.close()#いる？"
   ]
  },
  {
   "cell_type": "code",
   "execution_count": null,
   "metadata": {},
   "outputs": [],
   "source": []
  }
 ],
 "metadata": {
  "kernelspec": {
   "display_name": "Python 3",
   "language": "python",
   "name": "python3"
  },
  "language_info": {
   "codemirror_mode": {
    "name": "ipython",
    "version": 3
   },
   "file_extension": ".py",
   "mimetype": "text/x-python",
   "name": "python",
   "nbconvert_exporter": "python",
   "pygments_lexer": "ipython3",
   "version": "3.6.4"
  }
 },
 "nbformat": 4,
 "nbformat_minor": 2
}
