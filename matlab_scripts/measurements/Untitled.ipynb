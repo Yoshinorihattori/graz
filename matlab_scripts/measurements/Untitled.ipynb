{
 "cells": [
  {
   "cell_type": "code",
   "execution_count": 75,
   "metadata": {},
   "outputs": [],
   "source": [
    "#calcuration libraries\n",
    "import numpy as np\n",
    "import pandas as pd\n",
    "import matplotlib.pyplot as plt\n",
    "import math\n",
    "import csv\n",
    "import os\n",
    "%matplotlib inline\n",
    "import time\n",
    "import codecs"
   ]
  },
  {
   "cell_type": "code",
   "execution_count": 82,
   "metadata": {},
   "outputs": [
    {
     "name": "stdout",
     "output_type": "stream",
     "text": [
      "720.150001\n"
     ]
    }
   ],
   "source": [
    "filename = codecs.open(\"Daten_05.08.2019_16.09.20.txt\", encoding ='cp1252')\n",
    "data = np.loadtxt(filename, skiprows = 1)\n",
    "\n",
    "Tsa = data[:,0] #Temperatur aussen: Ts_aussen / °C\n",
    "Tsi = data[:,1] #Temperatur innen: Ts innen / °C\n",
    "Ti = data[:,2] #Fluidtemperatur: T / °C\n",
    "m_dot_C1 = data[0,3] #Massenstrom: m_dot C1 / kg/h\n",
    "m_dot_C2 = data[0,4] #Massenstrom: m_dot C2 / kg/h\n",
    "TPT100_m_new = data[:8,40]\n",
    "\n",
    "print(m_dot_C1)#, Tsi, m_dot_C1, m_dot_C2)"
   ]
  },
  {
   "cell_type": "code",
   "execution_count": null,
   "metadata": {},
   "outputs": [],
   "source": []
  }
 ],
 "metadata": {
  "kernelspec": {
   "display_name": "Python 3",
   "language": "python",
   "name": "python3"
  },
  "language_info": {
   "codemirror_mode": {
    "name": "ipython",
    "version": 3
   },
   "file_extension": ".py",
   "mimetype": "text/x-python",
   "name": "python",
   "nbconvert_exporter": "python",
   "pygments_lexer": "ipython3",
   "version": "3.6.4"
  }
 },
 "nbformat": 4,
 "nbformat_minor": 2
}
