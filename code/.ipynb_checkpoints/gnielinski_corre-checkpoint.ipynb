{
 "cells": [
  {
   "cell_type": "code",
   "execution_count": 151,
   "metadata": {},
   "outputs": [],
   "source": [
    "#calcuration libraries\n",
    "import numpy as np\n",
    "import matplotlib.pyplot as plt\n",
    "import math\n",
    "%matplotlib inline"
   ]
  },
  {
   "cell_type": "markdown",
   "metadata": {},
   "source": [
    "### Initial conditions"
   ]
  },
  {
   "cell_type": "code",
   "execution_count": 350,
   "metadata": {},
   "outputs": [],
   "source": [
    "d = 0.0118\n",
    "L = 1\n",
    "#Re_lam = np.linspace(0,2300,)\n",
    "#Re_b = np.linspace(2300,4000,)\n",
    "#Re_turb = np.linspace(4000,10000,)\n",
    "Re_lam = np.linspace(0,4000,)\n",
    "Re_b = np.linspace(1800,12000,)\n",
    "Re_turb = np.linspace(8000,20000,)\n",
    "Pr = 23\n",
    "Gz = d * Re_lam * Pr / L\n",
    "b = 0.3"
   ]
  },
  {
   "cell_type": "markdown",
   "metadata": {},
   "source": [
    "### Skinf friction"
   ]
  },
  {
   "cell_type": "code",
   "execution_count": 351,
   "metadata": {},
   "outputs": [
    {
     "name": "stderr",
     "output_type": "stream",
     "text": [
      "/Users/yoshi/.pyenv/versions/anaconda3-5.1.0/lib/python3.6/site-packages/ipykernel_launcher.py:2: RuntimeWarning: divide by zero encountered in true_divide\n",
      "  \n"
     ]
    }
   ],
   "source": [
    "#Skin friction for laminar flow\n",
    "Cf_lam = 16 / Re_lam\n",
    "#skin friction for turbulent flow(Konakov1954)\n",
    "Cf_turb = 0.25*(1.8*np.log10(Re_turb)-1.5)**(-2)"
   ]
  },
  {
   "cell_type": "code",
   "execution_count": 352,
   "metadata": {},
   "outputs": [
    {
     "data": {
      "text/plain": [
       "Text(0,0.5,'Skin friction Cf$\\\\,\\\\mathrm{[-]}$')"
      ]
     },
     "execution_count": 352,
     "metadata": {},
     "output_type": "execute_result"
    },
    {
     "data": {
      "image/png": "[encoded data removed]",
      "text/plain": [
       "<matplotlib.figure.Figure at 0x113faf358>"
      ]
     },
     "metadata": {},
     "output_type": "display_data"
    }
   ],
   "source": [
    "plt.plot(Re_lam, Cf_lam, color='red')\n",
    "plt.plot(Re_turb, Cf_turb, color='blue')\n",
    "plt.xlabel(r'Reynolds number Re$\\,\\mathrm{[-]}$')\n",
    "plt.ylabel(r'Skin friction Cf$\\,\\mathrm{[-]}$')"
   ]
  },
  {
   "cell_type": "code",
   "execution_count": 353,
   "metadata": {},
   "outputs": [],
   "source": [
    "#Christphan2018 thesis\n",
    "#Gnielinski correlstion\n",
    "#Nu_turb = ((Cf_turb * Re_turb * Pr / 2) / (1 + 12.7 * (Cf_turb / 2)**(1/2) * (Pr**(2/3) - 1))) * (Pr_b / Pr_w)**0.11\n",
    "Nu_lam_c = (3.66**3 + 0.7**3 + (1.615 * (Re_lam * Pr * d / L)**(1/3))**3)**(1/3)"
   ]
  },
  {
   "cell_type": "markdown",
   "metadata": {},
   "source": [
    "### Laminar flow_Uniform wall temperature (UWT)"
   ]
  },
  {
   "cell_type": "code",
   "execution_count": 354,
   "metadata": {},
   "outputs": [],
   "source": [
    "Nu_1_uwt = 3.66\n",
    "Nu_2_uwt = 1.615 * Gz**(1/3)\n",
    "Nu_3_uwt = (2/(1 + 22*Pr))**(1/6) * Gz\n",
    "Nu_lam_uwt = (Nu_1_uwt**3 + b + (Nu_2_uwt - b)**3 + Nu_3_uwt**3)**(1/3)"
   ]
  },
  {
   "cell_type": "markdown",
   "metadata": {},
   "source": [
    "### Laminar flow_Uniform heat flux (UHF)"
   ]
  },
  {
   "cell_type": "code",
   "execution_count": 355,
   "metadata": {},
   "outputs": [
    {
     "name": "stdout",
     "output_type": "stream",
     "text": [
      "[ 4.36877306  6.06312858  7.19537615  8.06537759  8.78584589  9.40789391\n",
      "  9.95943147 10.45754343 10.91353066 11.33529969 11.72862277 12.09785738\n",
      " 12.44638284 12.77687888 13.09151039 13.39205429 13.67998914 13.95655992\n",
      " 14.22282592 14.47969686 14.72796038 14.96830356 15.20132975 15.42757195\n",
      " 15.64750366 15.86154763 16.07008304 16.27345145 16.47196177 16.66589436\n",
      " 16.85550457 17.04102571 17.22267155 17.40063854 17.57510767 17.74624607\n",
      " 17.91420846 18.07913838 18.24116927 18.40042538 18.5570227  18.71106962\n",
      " 18.86266765 19.01191196 19.15889196 19.30369173 19.44639049 19.58706292\n",
      " 19.72577956 19.8626071 ]\n"
     ]
    }
   ],
   "source": [
    "Nu_1_uhf = 4.364\n",
    "Nu_2_uhf = 1.953 * Gz**(1/3)\n",
    "Nu_3_uhf = 0.924 * Pr**(1/3) * (Re * d / L)**(1/2)\n",
    "Nu_lam_uhf = (Nu_1_uhf**3 + b + (Nu_2_uhf - b)**3 + Nu_3_uhf**3)**(1/3)\n",
    "print(Nu_lam_uhf)"
   ]
  },
  {
   "cell_type": "markdown",
   "metadata": {},
   "source": [
    "### Turbulent flow"
   ]
  },
  {
   "cell_type": "code",
   "execution_count": 356,
   "metadata": {},
   "outputs": [
    {
     "name": "stdout",
     "output_type": "stream",
     "text": [
      "[117.22227321 120.22165965 123.20881066 126.18415966 129.14811286\n",
      " 132.10105163 135.04333466 137.97529986 140.89726607 143.80953455\n",
      " 146.71239039 149.60610373 152.49093086 155.36711521 158.23488831\n",
      " 161.09447058 163.94607211 166.78989331 169.62612558 172.4549519\n",
      " 175.27654729 178.09107937 180.89870879 183.6995896  186.49386969\n",
      " 189.28169112 192.06319045 194.83849904 197.60774332 200.37104508\n",
      " 203.12852171 205.8802864  208.62644838 211.36711313 214.10238251\n",
      " 216.83235499 219.55712581 222.27678709 224.99142801 227.70113494\n",
      " 230.40599156 233.10607899 235.80147588 238.49225854 241.17850104\n",
      " 243.86027529 246.53765113 249.21069643 251.87947717 254.54405749]\n"
     ]
    }
   ],
   "source": [
    "xi = (1.8 * np.log10(Re_turb) - 1.5)**(-2)\n",
    "Nu_turb = ((xi/8 * Re_turb * Pr) / (1 + 12.7 * (xi/8)**0.5 * (Pr**(2/3) - 1))) * (1 + (d/L)**(2/3))\n",
    "print(Nu_turb)"
   ]
  },
  {
   "cell_type": "markdown",
   "metadata": {},
   "source": [
    "### Transitional"
   ]
  },
  {
   "cell_type": "code",
   "execution_count": 357,
   "metadata": {},
   "outputs": [],
   "source": [
    "#Re_bulk = 2300\n",
    "#C = (Nu_1_uhf**3 + b + (Nu_2_uhf - b)**3 + Nu_3_uhf**3)**(1/3)\n",
    "c1 = 16.52225519\n",
    "c2 = 141.38330971"
   ]
  },
  {
   "cell_type": "code",
   "execution_count": 358,
   "metadata": {},
   "outputs": [
    {
     "name": "stdout",
     "output_type": "stream",
     "text": [
      "[-0.06493506 -0.03790087 -0.01086668  0.01616751  0.0432017   0.07023589\n",
      "  0.09727008  0.12430427  0.15133846  0.17837265  0.20540684  0.23244103\n",
      "  0.25947522  0.28650941  0.3135436   0.34057779  0.36761198  0.39464617\n",
      "  0.42168036  0.44871455  0.47574874  0.50278293  0.52981712  0.55685131\n",
      "  0.5838855   0.61091969  0.63795388  0.66498807  0.69202226  0.71905645\n",
      "  0.74609064  0.77312483  0.80015902  0.82719321  0.85422741  0.8812616\n",
      "  0.90829579  0.93532998  0.96236417  0.98939836  1.01643255  1.04346674\n",
      "  1.07050093  1.09753512  1.12456931  1.1516035   1.17863769  1.20567188\n",
      "  1.23270607  1.25974026]\n"
     ]
    }
   ],
   "source": [
    "r = (Re_b - 2300) / (10**4 - 2300)\n",
    "Nu_tran = (1 - r) * c1 + r * c2\n",
    "print(r)"
   ]
  },
  {
   "cell_type": "markdown",
   "metadata": {},
   "source": [
    "### Graph"
   ]
  },
  {
   "cell_type": "code",
   "execution_count": 359,
   "metadata": {
    "scrolled": true
   },
   "outputs": [
    {
     "data": {
      "text/plain": [
       "Text(0,0.5,'Nusselt number Nu$\\\\,\\\\mathrm{[-]}$')"
      ]
     },
     "execution_count": 359,
     "metadata": {},
     "output_type": "execute_result"
    },
    {
     "data": {
      "image/png": "[encoded data removed]",
      "text/plain": [
       "<matplotlib.figure.Figure at 0x1140ea898>"
      ]
     },
     "metadata": {},
     "output_type": "display_data"
    }
   ],
   "source": [
    "#plt.plot(Re_lam, Nu_lam_uwt, color='pink')\n",
    "plt.plot(Re_lam, Nu_lam_uhf, color='red')\n",
    "#plt.plot(Re_lam, Nu_lam_c, color='black')\n",
    "plt.plot(Re_b, Nu_tran, color='orange')\n",
    "plt.plot(Re_turb, Nu_turb, color='blue')\n",
    "plt.xlabel(r'Reynolds number Re$\\,\\mathrm{[-]}$')\n",
    "plt.ylabel(r'Nusselt number Nu$\\,\\mathrm{[-]}$')\n",
    "#plt.rcParams[\"font.size\"] = 14\n",
    "#OutPutFig = 'fig/density_rho.pdf'\n",
    "#plt.tight_layout()\n",
    "#plt.savefig(OutPutFig)"
   ]
  },
  {
   "cell_type": "code",
   "execution_count": null,
   "metadata": {},
   "outputs": [],
   "source": []
  },
  {
   "cell_type": "code",
   "execution_count": null,
   "metadata": {},
   "outputs": [],
   "source": []
  }
 ],
 "metadata": {
  "kernelspec": {
   "display_name": "Python 3",
   "language": "python",
   "name": "python3"
  },
  "language_info": {
   "codemirror_mode": {
    "name": "ipython",
    "version": 3
   },
   "file_extension": ".py",
   "mimetype": "text/x-python",
   "name": "python",
   "nbconvert_exporter": "python",
   "pygments_lexer": "ipython3",
   "version": "3.6.4"
  }
 },
 "nbformat": 4,
 "nbformat_minor": 2
}
