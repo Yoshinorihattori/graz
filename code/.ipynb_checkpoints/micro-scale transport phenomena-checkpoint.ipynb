{
 "cells": [
  {
   "cell_type": "markdown",
   "metadata": {},
   "source": [
    "Problem(3)"
   ]
  },
  {
   "cell_type": "code",
   "execution_count": 31,
   "metadata": {
    "collapsed": true
   },
   "outputs": [],
   "source": [
    "import numpy as np #値計算の機能を読み込む\n",
    "import matplotlib.pyplot as plt #グラフ機能を読み込む\\\n",
    "import math\n",
    "%matplotlib inline"
   ]
  },
  {
   "cell_type": "code",
   "execution_count": 32,
   "metadata": {
    "collapsed": true
   },
   "outputs": [],
   "source": [
    "#import math\n",
    "ContactAngle = 60\n",
    "SurfaceTensionOfTheWater = 72*10**(-3)\n",
    "#InterficialTensionBetween...\n",
    "SolidWall_Air = 72*10**(-3)\n",
    "SolidWall_Liquid = 36*10**(-3)"
   ]
  },
  {
   "cell_type": "code",
   "execution_count": 34,
   "metadata": {},
   "outputs": [
    {
     "name": "stdout",
     "output_type": "stream",
     "text": [
      "60.0\n"
     ]
    }
   ],
   "source": [
    "#From Young-Dupre equation,\n",
    "x = np.arccos((SolidWall_Air - SolidWall_Liquid)/ SurfaceTensionOfTheWater)\n",
    "deg = np.degrees(x)# ラジアンを度に変換\n",
    "print(deg)"
   ]
  },
  {
   "cell_type": "markdown",
   "metadata": {},
   "source": [
    "Problem(3-1)"
   ]
  },
  {
   "cell_type": "code",
   "execution_count": 35,
   "metadata": {
    "collapsed": true
   },
   "outputs": [],
   "source": [
    "a = np.linspace(72*10**(-3),18*10**(-3),)\n",
    "b = np.arccos((a - SolidWall_Air)/ SurfaceTensionOfTheWater)\n",
    "c = np.degrees(b)"
   ]
  },
  {
   "cell_type": "code",
   "execution_count": 36,
   "metadata": {},
   "outputs": [
    {
     "data": {
      "text/plain": [
       "<matplotlib.text.Text at 0x116a20898>"
      ]
     },
     "execution_count": 36,
     "metadata": {},
     "output_type": "execute_result"
    },
    {
     "data": {
      "image/png": "[encoded data removed]",
      "text/plain": [
       "<matplotlib.figure.Figure at 0x116908f28>"
      ]
     },
     "metadata": {},
     "output_type": "display_data"
    }
   ],
   "source": [
    "plt.plot(a, c)\n",
    "plt.xlabel(r'Interficial tension between solidwall and air σ$\\,\\mathrm{[N/m]}$')\n",
    "plt.ylabel(r'Contact angle$\\,\\mathrm{[°]}$')"
   ]
  },
  {
   "cell_type": "markdown",
   "metadata": {},
   "source": [
    "Problem(3-2)"
   ]
  },
  {
   "cell_type": "code",
   "execution_count": 37,
   "metadata": {
    "collapsed": true
   },
   "outputs": [],
   "source": [
    "d = np.linspace(72*10**(-3),36*10**(-3),)\n",
    "e = np.arccos((SolidWall_Air - SolidWall_Liquid)/ d)\n",
    "f = np.degrees(e)"
   ]
  },
  {
   "cell_type": "code",
   "execution_count": 39,
   "metadata": {},
   "outputs": [
    {
     "data": {
      "text/plain": [
       "<matplotlib.text.Text at 0x116936b70>"
      ]
     },
     "execution_count": 39,
     "metadata": {},
     "output_type": "execute_result"
    },
    {
     "data": {
      "image/png": "[encoded data removed]",
      "text/plain": [
       "<matplotlib.figure.Figure at 0x116b2c0f0>"
      ]
     },
     "metadata": {},
     "output_type": "display_data"
    }
   ],
   "source": [
    "plt.plot(d, f)\n",
    "plt.xlabel(r'Surface tension of the water σ$\\,\\mathrm{[N/m]}$')\n",
    "plt.ylabel(r'Contact angle$\\,\\mathrm{[°]}$')"
   ]
  },
  {
   "cell_type": "markdown",
   "metadata": {},
   "source": [
    "Problem(5)"
   ]
  },
  {
   "cell_type": "code",
   "execution_count": 41,
   "metadata": {},
   "outputs": [],
   "source": [
    "ContactAngle = np.radians(25)\n",
    "Density = 789\n",
    "SurfaceTension = 72*10**(-3)\n",
    "Gravity = 9.8 #On the earth\n",
    "Kappa = np.sqrt(Density * Gravity / SurfaceTension)\n",
    "InvKappa = np.sqrt(SurfaceTension / (Density * Gravity)) ##Inverce function of Kappa"
   ]
  },
  {
   "cell_type": "code",
   "execution_count": 42,
   "metadata": {},
   "outputs": [
    {
     "name": "stdout",
     "output_type": "stream",
     "text": [
      "0.00327914958568\n"
     ]
    }
   ],
   "source": [
    "h = np.sqrt(2 * SurfaceTension * (1 - np.sin(ContactAngle)) / (Density * Gravity))\n",
    "print(h)"
   ]
  },
  {
   "cell_type": "markdown",
   "metadata": {},
   "source": [
    "where x = 0, h = z"
   ]
  },
  {
   "cell_type": "code",
   "execution_count": 43,
   "metadata": {},
   "outputs": [
    {
     "name": "stderr",
     "output_type": "stream",
     "text": [
      "/Users/hattori/.pyenv/versions/anaconda3-4.3.1/lib/python3.5/site-packages/ipykernel_launcher.py:2: RuntimeWarning: divide by zero encountered in true_divide\n",
      "  \n"
     ]
    }
   ],
   "source": [
    "z = np.linspace(0,h,)\n",
    "x1 = InvKappa * np.arccosh(2 * InvKappa / z) -2 * InvKappa * (1 - (z**2 / 4 * InvKappa**2) )**(1/2) "
   ]
  },
  {
   "cell_type": "code",
   "execution_count": 55,
   "metadata": {},
   "outputs": [],
   "source": [
    "#x1"
   ]
  },
  {
   "cell_type": "code",
   "execution_count": 46,
   "metadata": {},
   "outputs": [
    {
     "data": {
      "text/plain": [
       "<matplotlib.text.Text at 0x116eb0c88>"
      ]
     },
     "execution_count": 46,
     "metadata": {},
     "output_type": "execute_result"
    },
    {
     "data": {
      "image/png": "[encoded data removed]",
      "text/plain": [
       "<matplotlib.figure.Figure at 0x116dfa470>"
      ]
     },
     "metadata": {},
     "output_type": "display_data"
    }
   ],
   "source": [
    "x = x1 + 0.023410983\n",
    "plt.plot(z, x)\n",
    "plt.xlabel(r'Distance$\\,\\mathrm{[m]}$')\n",
    "plt.ylabel(r'Height$\\,\\mathrm{[m]}$')"
   ]
  },
  {
   "cell_type": "markdown",
   "metadata": {},
   "source": [
    "In a space station, gravitational acceleration changes"
   ]
  },
  {
   "cell_type": "code",
   "execution_count": 48,
   "metadata": {},
   "outputs": [],
   "source": [
    "ContactAngle = np.radians(25)\n",
    "Density = 789\n",
    "SurfaceTension = 72*10**(-3)\n",
    "Gravity = 1.0*10**(-5)#In the space\n",
    "Kappa = np.sqrt(Density * Gravity / SurfaceTension)\n",
    "InvKappa = np.sqrt(SurfaceTension / (Density * Gravity)) ##Inverce function of Kappa"
   ]
  },
  {
   "cell_type": "code",
   "execution_count": 49,
   "metadata": {},
   "outputs": [
    {
     "name": "stdout",
     "output_type": "stream",
     "text": [
      "3.24619247199\n"
     ]
    }
   ],
   "source": [
    "h = np.sqrt(2 * SurfaceTension * (1 - np.sin(ContactAngle)) / (Density * Gravity))\n",
    "print(h)"
   ]
  },
  {
   "cell_type": "markdown",
   "metadata": {},
   "source": [
    "where x = 0, h = z"
   ]
  },
  {
   "cell_type": "code",
   "execution_count": 50,
   "metadata": {},
   "outputs": [
    {
     "name": "stderr",
     "output_type": "stream",
     "text": [
      "/Users/hattori/.pyenv/versions/anaconda3-4.3.1/lib/python3.5/site-packages/ipykernel_launcher.py:2: RuntimeWarning: divide by zero encountered in true_divide\n",
      "  \n",
      "/Users/hattori/.pyenv/versions/anaconda3-4.3.1/lib/python3.5/site-packages/ipykernel_launcher.py:2: RuntimeWarning: invalid value encountered in sqrt\n",
      "  \n"
     ]
    }
   ],
   "source": [
    "z = np.linspace(0,h,)\n",
    "x1 = InvKappa * np.arccosh(2 * InvKappa / z) -2 * InvKappa * (1 - (z**2 / 4 * InvKappa**2) )**(1/2) "
   ]
  },
  {
   "cell_type": "code",
   "execution_count": 56,
   "metadata": {},
   "outputs": [],
   "source": [
    "#x1"
   ]
  },
  {
   "cell_type": "code",
   "execution_count": 54,
   "metadata": {},
   "outputs": [
    {
     "data": {
      "text/plain": [
       "<matplotlib.text.Text at 0x1170e5a58>"
      ]
     },
     "execution_count": 54,
     "metadata": {},
     "output_type": "execute_result"
    },
    {
     "data": {
      "image/png": "[encoded data removed]",
      "text/plain": [
       "<matplotlib.figure.Figure at 0x117039080>"
      ]
     },
     "metadata": {},
     "output_type": "display_data"
    }
   ],
   "source": [
    "x = x1 - 6.45579174\n",
    "plt.plot(z, x)\n",
    "plt.xlabel(r'Distance$\\,\\mathrm{[m]}$')\n",
    "plt.ylabel(r'Height$\\,\\mathrm{[m]}$')"
   ]
  },
  {
   "cell_type": "code",
   "execution_count": null,
   "metadata": {
    "collapsed": true
   },
   "outputs": [],
   "source": []
  }
 ],
 "metadata": {
  "kernelspec": {
   "display_name": "Python 3",
   "language": "python",
   "name": "python3"
  },
  "language_info": {
   "codemirror_mode": {
    "name": "ipython",
    "version": 3
   },
   "file_extension": ".py",
   "mimetype": "text/x-python",
   "name": "python",
   "nbconvert_exporter": "python",
   "pygments_lexer": "ipython3",
   "version": "3.6.4"
  }
 },
 "nbformat": 4,
 "nbformat_minor": 2
}
