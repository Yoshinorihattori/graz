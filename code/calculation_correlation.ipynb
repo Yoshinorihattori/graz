{
 "cells": [
  {
   "cell_type": "code",
   "execution_count": 1,
   "metadata": {
    "collapsed": true
   },
   "outputs": [],
   "source": [
    "#calcuration libraries\n",
    "import numpy as np\n",
    "import matplotlib.pyplot as plt\n",
    "import math\n",
    "%matplotlib inline"
   ]
  },
  {
   "cell_type": "markdown",
   "metadata": {},
   "source": [
    "### Experimental Result"
   ]
  },
  {
   "cell_type": "code",
   "execution_count": 342,
   "metadata": {
    "collapsed": true
   },
   "outputs": [],
   "source": [
    "#PT100 [K]\n",
    "T_b0 = 94.9697 + 273.15\n",
    "T_b1 = 120.622 + 273.15\n",
    "T_w  = 121.459 + 273.15\n",
    "#pressure difference[pa]\n",
    "#dp  = 1763.33 * 10**(-5)\n",
    "dp = 5360.14 - 4871.41\n",
    "#dp = 2643.56\n",
    "#mass flow rate [kg/s]\n",
    "m_dot = 426.5659 / 3600\n",
    "#voltage drop\n",
    "V = 4.9785\n",
    "#current drop\n",
    "I = 249.5881"
   ]
  },
  {
   "cell_type": "markdown",
   "metadata": {},
   "source": [
    "### Case M20"
   ]
  },
  {
   "cell_type": "raw",
   "metadata": {},
   "source": [
    "#PT100 [K]\n",
    "T_b0 = 443.35\n",
    "T_b1 = 448.95\n",
    "T_w  = 465.95\n",
    "#pressure difference[pa]\n",
    "#dp  = 1763.33 * 10**(-5)\n",
    "dp = 5360.14 - 4871.41\n",
    "\n",
    "#mass flow rate [kg/s]\n",
    "m_dot = 0.125"
   ]
  },
  {
   "cell_type": "markdown",
   "metadata": {},
   "source": [
    "### Experimental facilities"
   ]
  },
  {
   "cell_type": "code",
   "execution_count": 324,
   "metadata": {
    "collapsed": true
   },
   "outputs": [],
   "source": [
    "#pipe diameter[m]\n",
    "d_i = 12 * 10**(-3)\n",
    "d_o = 15 * 10**(-3)\n",
    "#pipe area[m**2]\n",
    "A = (np.pi * d_i**2) / 4\n",
    "#heated length[m]\n",
    "l_heated = 2\n",
    "#distance of pressure mesurement[m]\n",
    "dz = 1"
   ]
  },
  {
   "cell_type": "markdown",
   "metadata": {},
   "source": [
    "### material properties"
   ]
  },
  {
   "cell_type": "code",
   "execution_count": 325,
   "metadata": {
    "collapsed": true
   },
   "outputs": [],
   "source": [
    "#density [kg / m**3]\n",
    "rho_b0 = 1045 - 0.616 * T_b0\n",
    "rho_b1 = 1045 - 0.616 * T_b1\n",
    "rho_w = 1045 - 0.616 * T_w\n",
    "#specific heat capasity [J / kg K]\n",
    "Cp_b0 = 818 + 3664 * 10**(-3) * T_b0\n",
    "Cp_b1 = 818 + 3664 * 10**(-3) * T_b1\n",
    "Cp_w =818 + 3664 * 10**(-3) * T_w\n",
    "#thermal conductivity [W / m K]\n",
    "lamda_f = 0.157 - 7.328*10**(-5) * T_b0\n",
    "lamda_p = 16.3\n",
    "#dynamic viscocity [Pa s]\n",
    "mu = 5.894*10**(-5) * np.exp(857.4 / (T_b0 - 172.2))\n",
    "#kinetic viscosity [m**(2) / s]\n",
    "nu = mu / rho\n",
    "#flow rate [m**3 / s]\n",
    "Q = m_dot / rho_w"
   ]
  },
  {
   "cell_type": "markdown",
   "metadata": {},
   "source": [
    "### material properties"
   ]
  },
  {
   "cell_type": "code",
   "execution_count": 326,
   "metadata": {},
   "outputs": [
    {
     "name": "stdout",
     "output_type": "stream",
     "text": [
      "rho 818.2382648 802.436448 801.920856\n",
      "Cp 2166.7905807999996 2260.780608 2263.8473759999997\n",
      "lamda 0.130024188384 16.3\n",
      "mu 0.004688193985075268\n",
      "nu 6.073605195043361e-06\n",
      "flow rate 0.00014775838150514166\n"
     ]
    }
   ],
   "source": [
    "print('rho',rho_b0, rho_b1, rho_w)\n",
    "print('Cp',Cp_b0, Cp_b1, Cp_w)\n",
    "print('lamda',lamda_f, lamda_p)\n",
    "print('mu',mu)\n",
    "print('nu',nu)\n",
    "print('flow rate', Q)"
   ]
  },
  {
   "cell_type": "code",
   "execution_count": 327,
   "metadata": {},
   "outputs": [
    {
     "data": {
      "text/plain": [
       "1.306470933322299"
      ]
     },
     "execution_count": 327,
     "metadata": {},
     "output_type": "execute_result"
    }
   ],
   "source": [
    "Q/A"
   ]
  },
  {
   "cell_type": "markdown",
   "metadata": {},
   "source": [
    "### Calculated numbers"
   ]
  },
  {
   "cell_type": "code",
   "execution_count": 364,
   "metadata": {
    "collapsed": true
   },
   "outputs": [],
   "source": [
    "#velocity [m/s]\n",
    "v_b = Q / A\n",
    "#Pramdtl number\n",
    "Pr_b = (mu * Cp_b0) / lamda_f\n",
    "#wall heat flux\n",
    "q_w = (m_dot * Cp_b1 * (T_b1 - T_b0)) / (d_i * np.pi * l_heated)\n",
    "#Reynolds number bulk\n",
    "Re_b = (rho * v_b * d_i) / mu\n",
    "#tau_w\n",
    "tau_w = (dp * d_i) / (dz * 4)\n",
    "#velocity\n",
    "v_tau = (tau_w / rho_w)**(1/2)\n",
    "#Re tau\n",
    "Re_tau = (rho_w * v_tau * d_i) / mu\n",
    "#Prabdlt number bulk\n",
    "#Prabdlt number wall\n",
    "Pr_w = (Cp_w * mu) / lamda_f\n",
    "#Nusselt number\n",
    "Nu = (q_w * d_i) / (lamda_p * (T_w - T_b1))\n",
    "#fricrtion coefficient\n",
    "Cf = 2 * tau_w / (rho_b1 * v**2)"
   ]
  },
  {
   "cell_type": "code",
   "execution_count": 365,
   "metadata": {},
   "outputs": [
    {
     "name": "stdout",
     "output_type": "stream",
     "text": [
      "Pr 78.12649856981785 81.62600961558967\n",
      "q_w??? 91139.6274762061\n",
      "v 1.306470933322299 0.042759180413626016\n",
      "Re 2581.275979654068 87.76807103540422\n",
      "tau_w??? 1.4661900000000014\n",
      "Nu??? 80.16327152293009\n",
      "Cf??? 0.0022289814571193767\n"
     ]
    }
   ],
   "source": [
    "print('Pr',Pr_b, Pr_w)\n",
    "print('q_w???',q_w)\n",
    "print('v',v_b, v_tau)\n",
    "print('Re',Re_b, Re_tau)\n",
    "print('tau_w???',tau_w)\n",
    "print('Nu???', Nu)\n",
    "print('Cf???', Cf)"
   ]
  },
  {
   "cell_type": "code",
   "execution_count": 366,
   "metadata": {},
   "outputs": [
    {
     "name": "stdout",
     "output_type": "stream",
     "text": [
      "q_el 610376.0830023312\n"
     ]
    }
   ],
   "source": [
    "#electrical transfomer (measured electrical current & voltage output)\n",
    "q_el = (V * I) / ((d_o**2 - d_i**2) * np.pi) / (4 * l_heated)  \n",
    "print('q_el',q_el)"
   ]
  },
  {
   "cell_type": "markdown",
   "metadata": {},
   "source": [
    "### Correlations"
   ]
  },
  {
   "cell_type": "code",
   "execution_count": 346,
   "metadata": {},
   "outputs": [
    {
     "name": "stdout",
     "output_type": "stream",
     "text": [
      "Cp_lam 0.006198484829252645\n",
      "Cp_turb 0.001564537762144471\n"
     ]
    }
   ],
   "source": [
    "#Skin friction for laminar flow\n",
    "print('Cp_lam',16/Re_b)\n",
    "#skin friction for turbulent flow(Konakov1954)\n",
    "print('Cp_turb',0.25*(1.8*np.log(Re_b)-1.5)**(-2))"
   ]
  },
  {
   "cell_type": "code",
   "execution_count": 5,
   "metadata": {},
   "outputs": [
    {
     "name": "stderr",
     "output_type": "stream",
     "text": [
      "/Users/yoshi/.pyenv/versions/anaconda3-5.1.0/lib/python3.6/site-packages/ipykernel_launcher.py:2: RuntimeWarning: divide by zero encountered in true_divide\n",
      "  \n",
      "/Users/yoshi/.pyenv/versions/anaconda3-5.1.0/lib/python3.6/site-packages/ipykernel_launcher.py:3: RuntimeWarning: divide by zero encountered in log\n",
      "  This is separate from the ipykernel package so we can avoid doing imports until\n"
     ]
    }
   ],
   "source": [
    "a = np.linspace(0,2300,)\n",
    "b = 16/ a\n",
    "c = 0.25*(1.8*np.log(a)-1.5)**(-2)"
   ]
  },
  {
   "cell_type": "code",
   "execution_count": null,
   "metadata": {
    "collapsed": true
   },
   "outputs": [],
   "source": [
    "plt.plot(a, c)\n",
    "plt.xlabel(r'Interficial tension between solidwall and air σ$\\,\\mathrm{[N/m]}$')\n",
    "plt.ylabel(r'Contact angle$\\,\\mathrm{[°]}$')"
   ]
  }
 ],
 "metadata": {
  "kernelspec": {
   "display_name": "Python 3",
   "language": "python",
   "name": "python3"
  },
  "language_info": {
   "codemirror_mode": {
    "name": "ipython",
    "version": 3
   },
   "file_extension": ".py",
   "mimetype": "text/x-python",
   "name": "python",
   "nbconvert_exporter": "python",
   "pygments_lexer": "ipython3",
   "version": "3.6.4"
  }
 },
 "nbformat": 4,
 "nbformat_minor": 2
}
