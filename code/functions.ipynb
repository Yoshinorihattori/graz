{
 "cells": [
  {
   "cell_type": "code",
   "execution_count": 162,
   "metadata": {},
   "outputs": [],
   "source": [
    "#calcuration libraries\n",
    "import numpy as np\n",
    "import matplotlib.pyplot as plt\n",
    "import math\n",
    "%matplotlib inline"
   ]
  },
  {
   "cell_type": "markdown",
   "metadata": {},
   "source": [
    "### Experimental facilities"
   ]
  },
  {
   "cell_type": "code",
   "execution_count": 163,
   "metadata": {},
   "outputs": [],
   "source": [
    "#pipe diameter[m]\n",
    "d_i = 12 * 10**(-3)\n",
    "d_o = 15 * 10**(-3)\n",
    "#pipe area[m**2]\n",
    "A = (np.pi * d_i**2) / 4\n",
    "#heated length[m]\n",
    "l_heated = 2\n",
    "#distance of pressure mesurement[m]\n",
    "dz = 1"
   ]
  },
  {
   "cell_type": "markdown",
   "metadata": {},
   "source": [
    "### Material properties"
   ]
  },
  {
   "cell_type": "code",
   "execution_count": 164,
   "metadata": {},
   "outputs": [
    {
     "name": "stdout",
     "output_type": "stream",
     "text": [
      "1.8188215999999997\n"
     ]
    }
   ],
   "source": [
    "A = 0.818;\n",
    "B = 3.664E-3;\n",
    "\n",
    "def cp(T):\n",
    "    cp = (A + B * (T+273.15));\n",
    "    return cp\n",
    "print(cp(0))"
   ]
  },
  {
   "cell_type": "code",
   "execution_count": 165,
   "metadata": {},
   "outputs": [
    {
     "name": "stdout",
     "output_type": "stream",
     "text": [
      "1818.8215999999998\n"
     ]
    }
   ],
   "source": [
    "def cp_K(T):\n",
    "    cp_K = A + B * (T);\n",
    "    cp_K =  cp_K *1000;##???\n",
    "    return cp_K\n",
    "print(cp_K(273.15))"
   ]
  },
  {
   "cell_type": "code",
   "execution_count": 166,
   "metadata": {},
   "outputs": [
    {
     "name": "stdout",
     "output_type": "stream",
     "text": [
      "0.136983568\n"
     ]
    }
   ],
   "source": [
    "C = 0.157;\n",
    "D = -7.328E-5;\n",
    "\n",
    "def Lambda(T):\n",
    "    Lambda = C + D * (T+273.15);\n",
    "    return Lambda\n",
    "print(Lambda(0))"
   ]
  },
  {
   "cell_type": "code",
   "execution_count": 167,
   "metadata": {},
   "outputs": [
    {
     "name": "stdout",
     "output_type": "stream",
     "text": [
      "0.136983568\n"
     ]
    }
   ],
   "source": [
    "def Lambda_K(T):\n",
    "    Lambda_K = C + D * (T);\n",
    "    return Lambda_K\n",
    "print(Lambda_K(273.15))"
   ]
  },
  {
   "cell_type": "code",
   "execution_count": 168,
   "metadata": {},
   "outputs": [
    {
     "name": "stdout",
     "output_type": "stream",
     "text": [
      "0.2877460210984148\n"
     ]
    }
   ],
   "source": [
    "E = 5.894E-5;\n",
    "F = 857.4;\n",
    "G = -172.2;\n",
    "\n",
    "def mu(T):\n",
    "    mu = E * np.exp( F / ( (T+273.15) + G) );\n",
    "    ##original mu = A .* exp( B ./ ( (T) + C) );\n",
    "    return mu\n",
    "print(mu(0))"
   ]
  },
  {
   "cell_type": "code",
   "execution_count": 169,
   "metadata": {},
   "outputs": [
    {
     "name": "stdout",
     "output_type": "stream",
     "text": [
      "0.2877460210984148\n"
     ]
    }
   ],
   "source": [
    "def mu_K(T):\n",
    "    mu_K = E * np.exp( F / ( (T) + G) );\n",
    "    return mu_K\n",
    "print(mu_K(273.15))"
   ]
  },
  {
   "cell_type": "code",
   "execution_count": 170,
   "metadata": {},
   "outputs": [
    {
     "name": "stdout",
     "output_type": "stream",
     "text": [
      "876.7396\n"
     ]
    }
   ],
   "source": [
    "H = 1045;\n",
    "I = -0.616;\n",
    "def rho(T):\n",
    "    rho = H + I * (T+273.15);\n",
    "    return rho\n",
    "print(rho(0))"
   ]
  },
  {
   "cell_type": "code",
   "execution_count": 171,
   "metadata": {},
   "outputs": [
    {
     "name": "stdout",
     "output_type": "stream",
     "text": [
      "876.7396\n"
     ]
    }
   ],
   "source": [
    "def rho_K(T):\n",
    "    rho_K = H + I * (T);\n",
    "    return rho_K\n",
    "print(rho_K(273.15))"
   ]
  },
  {
   "cell_type": "code",
   "execution_count": 172,
   "metadata": {},
   "outputs": [
    {
     "name": "stdout",
     "output_type": "stream",
     "text": [
      "0.0003282000962411357\n"
     ]
    }
   ],
   "source": [
    "def nu(T):\n",
    "    nu = mu(T)/rho(T);\n",
    "    return nu\n",
    "print(nu(0))"
   ]
  },
  {
   "cell_type": "code",
   "execution_count": 173,
   "metadata": {},
   "outputs": [
    {
     "name": "stdout",
     "output_type": "stream",
     "text": [
      "0.0003282000962411357\n"
     ]
    }
   ],
   "source": [
    "##nuとの違い？\n",
    "def nu_K(T):\n",
    "    nu = mu_K(T)/rho_K(T);\n",
    "    return nu\n",
    "print(nu(0))"
   ]
  },
  {
   "cell_type": "code",
   "execution_count": 174,
   "metadata": {},
   "outputs": [
    {
     "name": "stdout",
     "output_type": "stream",
     "text": [
      "3820.5945875774855\n"
     ]
    }
   ],
   "source": [
    "def Pr(T):\n",
    "    Pr = ( mu(T) * cp_T(T) * 1000 ) / lambda_T(T);\n",
    "    return Pr\n",
    "print(Pr(0))"
   ]
  },
  {
   "cell_type": "code",
   "execution_count": 175,
   "metadata": {},
   "outputs": [
    {
     "name": "stdout",
     "output_type": "stream",
     "text": [
      "14.066109332977256\n"
     ]
    }
   ],
   "source": [
    "##Prとの違い？\n",
    "def Pr_K(T):\n",
    "    Pr = ( mu_K(T) * cp_K(T)) / lambda_K(T);\n",
    "    return Pr\n",
    "print(Pr(273))"
   ]
  },
  {
   "cell_type": "markdown",
   "metadata": {},
   "source": [
    "### read measurement data"
   ]
  },
  {
   "cell_type": "code",
   "execution_count": 176,
   "metadata": {},
   "outputs": [],
   "source": [
    "# 取り出したい列を（0始まりで）指定する．\n",
    "import pandas as pd\n",
    "filename = './re230pr45/Daten_19.11.2018_16.02.21.csv'\n",
    "data = np.array(pd.read_csv(filename, skiprows=0, encoding='shift-jis'))"
   ]
  },
  {
   "cell_type": "code",
   "execution_count": 177,
   "metadata": {},
   "outputs": [
    {
     "name": "stdout",
     "output_type": "stream",
     "text": [
      "0.03769911184307752\n"
     ]
    }
   ],
   "source": [
    "di=12E-3;\n",
    "da=15E-3;\n",
    "disoa = 90E-3;\n",
    "L=2;\n",
    "V=(da**2-di**2)*np.pi/4*L;\n",
    "Ageo_MS = di*np.pi*L;#円菅内部の試験部表面積\n",
    "Ugeo_MS = di*np.pi;#円菅内面積\n",
    "Ageo_quer = di**2*np.pi/4;\n",
    "\n",
    "Tsa = data[:,0];#Temperatur aussen: Ts_aussen / °C\n",
    "Tsi = data[:,1];#Temperatur innen: Ts innen / °C\n",
    "Ti = data[:,2];#Fluidtemperatur: T / °C\n",
    "m_dot_C1 = data[0,3];#Massenstrom: m_dot C1 / kg/h\n",
    "m_dot_C2 = data[0,4];#Massenstrom: m_dot C2 / kg/h\n",
    "\n",
    "Re_C1 = data[0,5];#Re C1 / -\n",
    "Re_C2 = data[0,6];#Re C2 / -\n",
    "\n",
    "v_C1 = data[0,7];#Geschwindigkeit: v C1 / m/s\n",
    "v_C2 = data[0,8];#Geschwindigkeit: v C2 / m/s\n",
    "\n",
    "U_MS = data[0,9];#Spannungsabfall Messstrecke: U_MS / V\n",
    "I_MS = data[0,10];#Strom Messstrecke: I_MS / A\n",
    "P_MS = data[0,11];#Leistung Messstrecke: P_MS / W\n",
    "\n",
    "q = data[0,12];#spzifische Leistung: q / W/m3\n",
    "P1 = data[0,13];#Druckmessung: P1 / Pa\n",
    "P2 = data[0,14];#Druckmessung: P2 / Pa\n",
    "dp = data[0,15];#Differenzdruck: dp / bar\n",
    "nu_Fluid = data[0,16];#kin. Viscositaet Fluid: nu / m2/s\n",
    "rho_Fluid = data[0,17];#Dichte Fluid: rho / kg/m3\n",
    "lambda_Fluid = data[0,18];#Waermeleitfaehigkeit Fluid: lambda / W/mK\n",
    "cp_Fluid = data[0,19];#spez. Waermekapazitaet Fluid: cp /J/kgK\n",
    "Pr_Fluid = data[0,20];#Pr / -\n",
    "lambda_Rohr = data[0,21];#Waermeleitfaehigkeit Rohr: lambda / W/mK\n",
    "Nu_Fluid = data[0,22];#Nu / -\n",
    "\n",
    "I1 = data[0,23];#Strom I / A\n",
    "U1 = data[0,24];#Spannung U / V\n",
    "\n",
    "dp_T1 = data[0,25];#Re_tau / - 関数名とtxtが合っていない？\n",
    "dp_T2 = data[0,26];#Re_tau_Pet / -　関数名とtxtが合っていない？\n",
    "dp_T3 = data[0,27];#dp Pet / Pa\n",
    "\n",
    "#Mittel (U*I) mean P / W\n",
    "Pm = data[0,28];#Mittel (U*I) mean P / W\n",
    "TPT100_a = data[:,29];#PT100 T aussen(5 value)\n",
    "TPT100_i = data[:,30];#PT100 T innen(5 value)\n",
    "TPT100_m = data[:,31];#PT100 T mittel(5 value)\n",
    "\n",
    "NuPt100 = data[0,32];#Nu Pt100\n",
    "NuQm = data[0,33];#Nu Qm\n",
    "\n",
    "# zeta computation Einlesen\n",
    "ZRem100 = data[0,34];#zeta Re\n",
    "Zzeta100 = data[0,35];#zeta\n",
    "Zqm100 = data[0,36];#zeta qw\n",
    "\n",
    "TPT100_T5 = data[0,37];#PT100 T5\n",
    "\n",
    "print(Ugeo_MS)"
   ]
  },
  {
   "cell_type": "code",
   "execution_count": 178,
   "metadata": {},
   "outputs": [],
   "source": [
    "# T_aussen -> T_innen (check)\n",
    "lambda_K = 0.16;\n",
    "ri       = di/2;\n",
    "ra       = da/2;\n",
    "DeltaK   = 0.065E-3;\n",
    "#lambda_N = @(T) 20;%20;%0.0135*T + 15.1622;%14;\n",
    "#conduction equation for inner wall temperatuer"
   ]
  },
  {
   "cell_type": "markdown",
   "metadata": {},
   "source": [
    "### Definition der Temperaturen und MesspositionenCoeff_lf"
   ]
  },
  {
   "cell_type": "code",
   "execution_count": 179,
   "metadata": {},
   "outputs": [],
   "source": [
    "Tsa_up = [Tsa[0], Tsa[2], Tsa[4], Tsa[6], Tsa[8], Tsa[10], Tsa[12], Tsa[14], Tsa[16], Tsa[18], Tsa[20], Tsa[22]]\n",
    "Tsa_down = [Tsa[1], Tsa[3], Tsa[5], Tsa[7], Tsa[9], Tsa[11], Tsa[13], Tsa[15], Tsa[17], Tsa[19], Tsa[21], Tsa[23]]\n",
    "Tsi_up = [Tsi[0], Tsi[2], Tsi[4], Tsi[6], Tsi[8], Tsi[10], Tsi[12], Tsi[14], Tsi[16], Tsi[18], Tsi[20], Tsi[22]]\n",
    "Tsi_down = [Tsi[1], Tsi[3], Tsi[5], Tsi[7], Tsi[9], Tsi[11], Tsi[13], Tsi[15], Tsi[17], Tsi[19], Tsi[21], Tsi[23]]\n",
    "\n",
    "x_pos_Ts_up = [1.230, 1.520, 2.020, 2.420, 2.720, 2.870, 3.020, 3.170, 3.230, 4.680, 4.720, 5.480, 5.520]\n",
    "x_pos_Ts_up_a = [1.230, 1.520, 2.020, 2.420, 2.720, 2.870, 3.020, 3.170, 3.230, 4.680, 4.720, 5.480, 5.520]\n",
    "x_pos_Ts_down = [1.230, 1.520, 2.020, 2.420, 2.870, 3.020, 3.170, 3.230, 5.480, 5.520]\n",
    "x_pos_Ts_down_a = [1.230, 1.520, 2.020, 2.420, 2.870, 3.020, 3.170]\n",
    "x_pos_t=[2.720, 4.700]\n",
    "\n",
    "T_Ms_fluid = [Ti[2], Ti[0]]\n",
    "x_pos_p = [3.3, 4.3, 4.4]\n",
    "pos = [1,2,3,4,5,6,7,8,9,10,11,12,13,14,15,16,17,18,19,20,21,22,23,24]#なんとかならない？\n",
    "\n",
    "x_pos_TPt100 = [2.920, 0.05, 2.720, 5.500]\n",
    "x_pos_TPt100 = [2.420, 0.05, 2.920, 5.500]\n",
    "x_pos_TPt100 = [1.970, 2.470, 2.970, 5.500, 0.05]\n",
    "xTin  = 0.05;\n",
    "xTout = 5.50;\n",
    "#x_pos_TPt100 = [2.720 3.170 3.170 4.700];\n",
    "\n",
    "x_MS_in = 1.2;\n",
    "x_MS_out = 3.2;"
   ]
  },
  {
   "cell_type": "code",
   "execution_count": 180,
   "metadata": {},
   "outputs": [
    {
     "name": "stdout",
     "output_type": "stream",
     "text": [
      "[123.672559 125.84253  126.312521  98.763218  95.438691   0.\n",
      "   0.         0.         0.         0.         0.         0.\n",
      "   0.         0.         0.         0.         0.         0.\n",
      "   0.         0.         0.         0.         0.         0.      ]\n",
      "98.76321800000001\n"
     ]
    }
   ],
   "source": [
    "#TPT100_a = TPT100_mean\n",
    "TPT100 = np.zeros((1,5))\n",
    "TPT100 = TPT100_i\n",
    "print(TPT100)#TPT100の5個目以降の値をゼロにしたい！！！！！！！！！！！！！！\n",
    "\n",
    "Tm_aus=TPT100[3];\n",
    "Tm=Tm_aus;\n",
    "print(Tm)#オフセットあるので違う！！！！！！！！！！！！！"
   ]
  },
  {
   "cell_type": "markdown",
   "metadata": {},
   "source": [
    "### iteration to update the temperatuer dependent material properties --> new wall temperature"
   ]
  },
  {
   "cell_type": "code",
   "execution_count": 181,
   "metadata": {},
   "outputs": [
    {
     "name": "stdout",
     "output_type": "stream",
     "text": [
      "126.31252099999999\n"
     ]
    }
   ],
   "source": [
    "Tw = TPT100[2]\n",
    "print(Tw)#オフセットあるので違う！！！！！！！！！！！！！\n",
    "\n",
    "T_iso = Ti[1]#断熱材の外の温度？\n",
    "T_inf = Ti[6]#Temperature infinity"
   ]
  },
  {
   "cell_type": "markdown",
   "metadata": {},
   "source": [
    "### Berechnung der Fluid Stoffwerte"
   ]
  },
  {
   "cell_type": "code",
   "execution_count": 182,
   "metadata": {},
   "outputs": [],
   "source": [
    "Pr_w = Pr(Tw)\n",
    "\n",
    "Pr_w     = Pr(Tw)\n",
    "rho_w    = rho(Tw)\n",
    "nu_w     = nu(Tw)\n",
    "mu_w     = nu_w * rho_w\n",
    "cp_w     = cp(Tw)\n",
    "lambda_w = Lambda(Tw)\n",
    "\n",
    "Pr_m     = Pr(Tm)\n",
    "rho_m    = rho(Tm)\n",
    "nu_m     = nu(Tm)\n",
    "mu_m     = nu_m * rho_m\n",
    "cp_m     = cp(Tm)\n",
    "lambda_m = Lambda(Tm)\n",
    "\n",
    "Re_C1;"
   ]
  },
  {
   "cell_type": "markdown",
   "metadata": {},
   "source": [
    "### Korrektur mittel Temperatur"
   ]
  },
  {
   "cell_type": "code",
   "execution_count": 183,
   "metadata": {},
   "outputs": [],
   "source": [
    "#dqhldT = 1.;\n",
    "#zeta_mischer = 32.46;\n",
    "\n",
    "#Thl = (Tw+Tm)*0.5;\n",
    "#qhl= dqhldT* (Thl-T_iso);\n",
    "\n",
    "#qhlm2 = qhl / (da*pi*5.45);\n",
    "\n",
    "Re_m = Re_C1;\n",
    "lambda_Pet = (1.8*np.log(Re_m)-1.5)**(-2.);"
   ]
  },
  {
   "cell_type": "code",
   "execution_count": 184,
   "metadata": {},
   "outputs": [],
   "source": [
    "#Specific heat capasity, cp mean\n",
    "T_in=TPT100[4]+273.15;\n",
    "T_out=TPT100[3]+273.15;\n",
    "\n",
    "Ac = 0.818;\n",
    "Bc = 3.664E-3;\n",
    "cpm=(Ac*(T_out-T_in)+Bc/2*(T_out**2-T_in**2))/(T_out-T_in)*1000;#Eq(2.108)\n",
    "\n",
    "Wmean=Re_m*nu_m/di;\n",
    "mdot = m_dot_C1/3600;"
   ]
  },
  {
   "cell_type": "code",
   "execution_count": 185,
   "metadata": {},
   "outputs": [],
   "source": [
    "#Q= DT_pt100 / Dx\n",
    "    \n",
    "#fit=polyfit(x_pos_TPt100(1:3),TPT100(1:3)',1);\n",
    "#gradT_PT100=fit(1);\n",
    "\n",
    "#Q_Pt100 = gradT_PT100*mdot*cpm*L;\n",
    "\n",
    "#qUI=P_MS/Ageo_MS;\n",
    "\n",
    "#dqw2 = (lambda_Pet*(5.45-2.92)/di + zeta_mischer) * rho_m * Wmean^2/2 * Wmean * Ageo_quer - qhl*(5.45-2.53)/5.45;\n",
    "\n",
    "#Qin_out=max(mdot*cpm*(T_out-T_in)-(lambda_Pet*(5.45-2.92)/di + zeta_mischer) * rho_m * Wmean^2/2 * Wmean * Ageo_quer + qhl,0);\n",
    "Qin_out=mdot*cpm*(T_out-T_in);\n",
    "dQ=Qin_out-P_MS;"
   ]
  },
  {
   "cell_type": "code",
   "execution_count": 186,
   "metadata": {},
   "outputs": [],
   "source": [
    "#Q=m_dot * cp_m * DT;\n",
    "#gradT = (Qin_out/L) / ( (mdot) * cpm );\n",
    "\n",
    "#dTm = dqw2/(mdot*cpm);\n",
    "\n",
    "#SA_Tm=gradT*(x_MS_out-x_pos_TPt100(3));"
   ]
  },
  {
   "cell_type": "code",
   "execution_count": 187,
   "metadata": {},
   "outputs": [],
   "source": [
    "#Tm_aus = TPT100(4) - dTm;\n",
    "#Tm = Tm_aus - SA_Tm;\n",
    "\n",
    "qw = Qin_out/ Ageo_MS;#heat flux\n",
    "#if(Qin_out>0)\n",
    "    #qvA=qhlm2;\n",
    "#else\n",
    "    #qvA=0;\n",
    "#end\n",
    "\n",
    "\n",
    "#Pr_w     = calc_Pr(Tw);\n",
    "#rho_w    = calc_rho(Tw);\n",
    "#nu_w     = calc_nu(Tw);\n",
    "#mu_w     = nu_w * rho_w;\n",
    "#cp_w     = calc_cp(Tw);\n",
    "#lambda_w = calc_lambda(Tw);\n",
    "\n",
    "#Pr_m     = calc_Pr(Tm);\n",
    "#rho_m    = calc_rho(Tm);\n",
    "#nu_m     = calc_nu(Tm);\n",
    "#mu_m     = nu_m * rho_m;\n",
    "#cp_m     = calc_cp(Tm);\n",
    "#lambda_m = calc_lambda(Tm);"
   ]
  },
  {
   "cell_type": "code",
   "execution_count": 188,
   "metadata": {},
   "outputs": [],
   "source": [
    "#P_spez_m2 = P_MS/A;\n",
    "#P=Pm;\n",
    "#P=P_MS;\n",
    "\n",
    "#P_spez_m2 = P/Ageo_MS;\n",
    "#P_spez_m3 = P/V;"
   ]
  },
  {
   "cell_type": "markdown",
   "metadata": {},
   "source": [
    "### Berechnung von Re"
   ]
  },
  {
   "cell_type": "code",
   "execution_count": 189,
   "metadata": {},
   "outputs": [],
   "source": [
    "Re_m = Re_C1;\n",
    "Re_w = Re_C2;\n",
    "#check why there is a differnece!!!!\n",
    "Re_m = m_dot_C1/3600*4/(nu_m*rho_m*di*np.pi);\n",
    "Re_w = m_dot_C1/3600*4/(nu_w*rho_m*di*np.pi);"
   ]
  },
  {
   "cell_type": "markdown",
   "metadata": {},
   "source": [
    "### Korrektur Tw @ Ende Messtrecke"
   ]
  },
  {
   "cell_type": "markdown",
   "metadata": {},
   "source": [
    "### Nusselt"
   ]
  },
  {
   "cell_type": "code",
   "execution_count": 190,
   "metadata": {},
   "outputs": [],
   "source": [
    "#Measurement\n",
    "Nu_ideal =  qUI* di / (lambda_m * ( Tw-Tm ) );\n",
    "Nu_QmdotCpDt_m = qw * di / (lambda_m * ( Tw-Tm ) );\n",
    "Nu_QmdotCpDt_w = qw * di / (lambda_w * ( Tw-Tm ) );\n",
    "qw_mdotCpDt = qw;\n",
    "\n",
    "#Nu_fit   = gradTfit   *mdot*cpm/(di*pi) * di / ( lambda_m * ( Tw-(Tm_aus - gradTfit   *(x_MS_out-x_pos_TPt100(3)) ) ) );\n",
    "#qw_fit = gradTfit   *mdot*cpm/(di*pi);\n",
    "#Nu_Pt100 = gradT_PT100*mdot*cpm/(di*pi) * di / ( lambda_m * ( Tw-(Tm_aus - gradT_PT100*(x_MS_out-x_pos_TPt100(3)) ) ) );\n",
    "#qw_Pt100 = gradT_PT100*mdot*cpm/(di*pi);\n",
    "\n",
    "#NuMessung=Nu_QmdotCpDt_w;"
   ]
  },
  {
   "cell_type": "code",
   "execution_count": 195,
   "metadata": {},
   "outputs": [
    {
     "name": "stdout",
     "output_type": "stream",
     "text": [
      "36.95225915450588\n",
      "30.272491716808283\n",
      "30.750967783750554\n"
     ]
    }
   ],
   "source": [
    "print(Nu_ideal)\n",
    "print(Nu_QmdotCpDt_m)\n",
    "print(Nu_QmdotCpDt_w)"
   ]
  },
  {
   "cell_type": "code",
   "execution_count": 196,
   "metadata": {},
   "outputs": [
    {
     "name": "stdout",
     "output_type": "stream",
     "text": [
      "126.31252099999999\n"
     ]
    }
   ],
   "source": [
    "print(Tw)"
   ]
  },
  {
   "cell_type": "markdown",
   "metadata": {},
   "source": [
    "### condition"
   ]
  },
  {
   "cell_type": "code",
   "execution_count": 203,
   "metadata": {},
   "outputs": [
    {
     "name": "stdout",
     "output_type": "stream",
     "text": [
      "2312.85779394401\n",
      "45.79805388546149\n",
      "0.004314237922277672\n"
     ]
    }
   ],
   "source": [
    "print(Re_m)\n",
    "print(Pr_w)\n",
    "print(mu_m)"
   ]
  },
  {
   "cell_type": "code",
   "execution_count": 201,
   "metadata": {},
   "outputs": [
    {
     "data": {
      "text/plain": [
       "0.129746"
      ]
     },
     "execution_count": 201,
     "metadata": {},
     "output_type": "execute_result"
    }
   ],
   "source": [
    "lambda_Fluid"
   ]
  },
  {
   "cell_type": "code",
   "execution_count": null,
   "metadata": {},
   "outputs": [],
   "source": []
  },
  {
   "cell_type": "code",
   "execution_count": null,
   "metadata": {},
   "outputs": [],
   "source": []
  }
 ],
 "metadata": {
  "kernelspec": {
   "display_name": "Python 3",
   "language": "python",
   "name": "python3"
  },
  "language_info": {
   "codemirror_mode": {
    "name": "ipython",
    "version": 3
   },
   "file_extension": ".py",
   "mimetype": "text/x-python",
   "name": "python",
   "nbconvert_exporter": "python",
   "pygments_lexer": "ipython3",
   "version": "3.6.4"
  }
 },
 "nbformat": 4,
 "nbformat_minor": 2
}
