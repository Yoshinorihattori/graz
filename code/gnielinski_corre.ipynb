{
 "cells": [
  {
   "cell_type": "code",
   "execution_count": 151,
   "metadata": {},
   "outputs": [],
   "source": [
    "#calcuration libraries\n",
    "import numpy as np\n",
    "import matplotlib.pyplot as plt\n",
    "import math\n",
    "%matplotlib inline"
   ]
  },
  {
   "cell_type": "markdown",
   "metadata": {},
   "source": [
    "### Initial conditions"
   ]
  },
  {
   "cell_type": "code",
   "execution_count": 401,
   "metadata": {},
   "outputs": [],
   "source": [
    "d = 0.0118\n",
    "L = 1\n",
    "#Re_lam = np.linspace(0,2300,)\n",
    "#Re_b = np.linspace(2300,4000,)\n",
    "#Re_turb = np.linspace(4000,10000,)\n",
    "Re_lam = np.linspace(0,2300,)\n",
    "Re_b = np.linspace(2300,10000,)\n",
    "Re_turb = np.linspace(10000,100000,)\n",
    "Pr = 26\n",
    "Gz = d * Re_lam * Pr / L\n",
    "b = 0.3"
   ]
  },
  {
   "cell_type": "markdown",
   "metadata": {},
   "source": [
    "### Skinf friction"
   ]
  },
  {
   "cell_type": "code",
   "execution_count": 402,
   "metadata": {},
   "outputs": [
    {
     "name": "stderr",
     "output_type": "stream",
     "text": [
      "/Users/yoshi/.pyenv/versions/anaconda3-5.1.0/lib/python3.6/site-packages/ipykernel_launcher.py:2: RuntimeWarning: divide by zero encountered in true_divide\n",
      "  \n"
     ]
    }
   ],
   "source": [
    "#Skin friction for laminar flow\n",
    "Cf_lam = 16 / Re_lam\n",
    "#skin friction for turbulent flow(Konakov1954)\n",
    "Cf_turb = 0.25*(1.8*np.log10(Re_turb)-1.5)**(-2)"
   ]
  },
  {
   "cell_type": "code",
   "execution_count": 403,
   "metadata": {},
   "outputs": [
    {
     "data": {
      "text/plain": [
       "Text(0,0.5,'Skin friction Cf$\\\\,\\\\mathrm{[-]}$')"
      ]
     },
     "execution_count": 403,
     "metadata": {},
     "output_type": "execute_result"
    },
    {
     "data": {
      "image/png": "[encoded data removed]",
      "text/plain": [
       "<matplotlib.figure.Figure at 0x114b24dd8>"
      ]
     },
     "metadata": {},
     "output_type": "display_data"
    }
   ],
   "source": [
    "plt.plot(Re_lam, Cf_lam, color='red')\n",
    "plt.plot(Re_turb, Cf_turb, color='blue')\n",
    "plt.xlabel(r'Reynolds number Re$\\,\\mathrm{[-]}$')\n",
    "plt.ylabel(r'Skin friction Cf$\\,\\mathrm{[-]}$')"
   ]
  },
  {
   "cell_type": "code",
   "execution_count": 404,
   "metadata": {},
   "outputs": [],
   "source": [
    "#Christphan2018 thesis\n",
    "#Gnielinski correlstion\n",
    "#Nu_turb = ((Cf_turb * Re_turb * Pr / 2) / (1 + 12.7 * (Cf_turb / 2)**(1/2) * (Pr**(2/3) - 1))) * (Pr_b / Pr_w)**0.11\n",
    "Nu_lam_c = (3.66**3 + 0.7**3 + (1.615 * (Re_lam * Pr * d / L)**(1/3))**3)**(1/3)"
   ]
  },
  {
   "cell_type": "markdown",
   "metadata": {},
   "source": [
    "### Laminar flow_Uniform wall temperature (UWT)"
   ]
  },
  {
   "cell_type": "code",
   "execution_count": 405,
   "metadata": {},
   "outputs": [],
   "source": [
    "Nu_1_uwt = 3.66\n",
    "Nu_2_uwt = 1.615 * Gz**(1/3)\n",
    "Nu_3_uwt = (2/(1 + 22*Pr))**(1/6) * Gz\n",
    "Nu_lam_uwt = (Nu_1_uwt**3 + b + (Nu_2_uwt - b)**3 + Nu_3_uwt**3)**(1/3)"
   ]
  },
  {
   "cell_type": "markdown",
   "metadata": {},
   "source": [
    "### Laminar flow_Uniform heat flux (UHF)"
   ]
  },
  {
   "cell_type": "code",
   "execution_count": 406,
   "metadata": {},
   "outputs": [
    {
     "name": "stdout",
     "output_type": "stream",
     "text": [
      "[ 4.36877306  5.55803509  6.44336939  7.14779487  7.74134868  8.25916768\n",
      "  8.72147638  9.14106902  9.52660187  9.88423209 10.21851192 10.53291225\n",
      " 10.83014665 11.1123813  11.38137603 11.63858223 11.88521253 12.12229169\n",
      " 12.35069436 12.57117377 12.78438374 12.99089586 13.19121307 13.38578049\n",
      " 13.57499423 13.75920845 13.93874126 14.11387961 14.28488328 14.45198834\n",
      " 14.61541002 14.77534512 14.93197418 15.08546319 15.23596525 15.3836218\n",
      " 15.52856391 15.67091322 15.81078288 15.94827836 16.08349812 16.21653423\n",
      " 16.34747296 16.47639526 16.60337717 16.72849027 16.85180199 16.97337594\n",
      " 17.09327224 17.21154772]\n"
     ]
    }
   ],
   "source": [
    "Nu_1_uhf = 4.364\n",
    "Nu_2_uhf = 1.953 * Gz**(1/3)\n",
    "Nu_3_uhf = 0.924 * Pr**(1/3) * (Re * d / L)**(1/2)\n",
    "Nu_lam_uhf = (Nu_1_uhf**3 + b + (Nu_2_uhf - b)**3 + Nu_3_uhf**3)**(1/3)\n",
    "print(Nu_lam_uhf)"
   ]
  },
  {
   "cell_type": "markdown",
   "metadata": {},
   "source": [
    "### Turbulent flow"
   ]
  },
  {
   "cell_type": "code",
   "execution_count": 407,
   "metadata": {},
   "outputs": [
    {
     "name": "stdout",
     "output_type": "stream",
     "text": [
      "[ 147.654616    170.27179277  192.42964251  214.20297384  235.64689735\n",
      "  256.80356506  277.70617494  298.38149393  318.85152343  339.13464103\n",
      "  359.24640826  379.20015743  399.00742783  418.67829631  438.22163231\n",
      "  457.64529745  476.95630403  496.16094226  515.26488372  534.27326605\n",
      "  553.19076314  572.0216437   590.76982041  609.4388916   628.03217671\n",
      "  646.55274672  665.00345031  683.38693657  701.70567472  719.96197137\n",
      "  738.1579857   756.29574272  774.37714517  792.40398393  810.37794736\n",
      "  828.30062965  846.17353828  863.99810071  881.77567044  899.50753246\n",
      "  917.1949082   934.83895999  952.44079515  970.00146971  987.5219918\n",
      " 1005.00332473 1022.44638987 1039.85206925 1057.22120795 1074.55461632]\n"
     ]
    }
   ],
   "source": [
    "xi = (1.8 * np.log10(Re_turb) - 1.5)**(-2)\n",
    "Nu_turb = ((xi/8 * Re_turb * Pr) / (1 + 12.7 * (xi/8)**0.5 * (Pr**(2/3) - 1))) * (1 + (d/L)**(2/3))\n",
    "print(Nu_turb)"
   ]
  },
  {
   "cell_type": "markdown",
   "metadata": {},
   "source": [
    "### Transitional"
   ]
  },
  {
   "cell_type": "code",
   "execution_count": 411,
   "metadata": {},
   "outputs": [],
   "source": [
    "#Re_bulk = 2300\n",
    "#C = (Nu_1_uhf**3 + b + (Nu_2_uhf - b)**3 + Nu_3_uhf**3)**(1/3)\n",
    "c1 = 17.21154772\n",
    "c2 = 147.654616"
   ]
  },
  {
   "cell_type": "code",
   "execution_count": 412,
   "metadata": {},
   "outputs": [
    {
     "name": "stdout",
     "output_type": "stream",
     "text": [
      "[0.         0.02040816 0.04081633 0.06122449 0.08163265 0.10204082\n",
      " 0.12244898 0.14285714 0.16326531 0.18367347 0.20408163 0.2244898\n",
      " 0.24489796 0.26530612 0.28571429 0.30612245 0.32653061 0.34693878\n",
      " 0.36734694 0.3877551  0.40816327 0.42857143 0.44897959 0.46938776\n",
      " 0.48979592 0.51020408 0.53061224 0.55102041 0.57142857 0.59183673\n",
      " 0.6122449  0.63265306 0.65306122 0.67346939 0.69387755 0.71428571\n",
      " 0.73469388 0.75510204 0.7755102  0.79591837 0.81632653 0.83673469\n",
      " 0.85714286 0.87755102 0.89795918 0.91836735 0.93877551 0.95918367\n",
      " 0.97959184 1.        ]\n"
     ]
    }
   ],
   "source": [
    "r = (Re_b - 2300) / (10**4 - 2300)\n",
    "Nu_tran = (1 - r) * c1 + r * c2\n",
    "print(r)"
   ]
  },
  {
   "cell_type": "markdown",
   "metadata": {},
   "source": [
    "### Graph"
   ]
  },
  {
   "cell_type": "code",
   "execution_count": 413,
   "metadata": {
    "scrolled": true
   },
   "outputs": [
    {
     "data": {
      "text/plain": [
       "Text(0,0.5,'Nusselt number Nu$\\\\,\\\\mathrm{[-]}$')"
      ]
     },
     "execution_count": 413,
     "metadata": {},
     "output_type": "execute_result"
    },
    {
     "data": {
      "image/png": "[encoded data removed]",
      "text/plain": [
       "<matplotlib.figure.Figure at 0x114fe44e0>"
      ]
     },
     "metadata": {},
     "output_type": "display_data"
    }
   ],
   "source": [
    "#plt.plot(Re_lam, Nu_lam_uwt, color='pink')\n",
    "plt.loglog(Re_lam, Nu_lam_uhf, color='red')\n",
    "#plt.plot(Re_lam, Nu_lam_c, color='black')\n",
    "plt.loglog(Re_b, Nu_tran, color='orange')\n",
    "plt.loglog(Re_turb, Nu_turb, color='blue')\n",
    "plt.xlabel(r'Reynolds number Re$\\,\\mathrm{[-]}$')\n",
    "plt.ylabel(r'Nusselt number Nu$\\,\\mathrm{[-]}$')\n",
    "#plt.rcParams[\"font.size\"] = 14\n",
    "#OutPutFig = 'fig/density_rho.pdf'\n",
    "#plt.tight_layout()\n",
    "#plt.savefig(OutPutFig)"
   ]
  },
  {
   "cell_type": "code",
   "execution_count": null,
   "metadata": {},
   "outputs": [],
   "source": []
  },
  {
   "cell_type": "code",
   "execution_count": null,
   "metadata": {},
   "outputs": [],
   "source": []
  }
 ],
 "metadata": {
  "kernelspec": {
   "display_name": "Python 3",
   "language": "python",
   "name": "python3"
  },
  "language_info": {
   "codemirror_mode": {
    "name": "ipython",
    "version": 3
   },
   "file_extension": ".py",
   "mimetype": "text/x-python",
   "name": "python",
   "nbconvert_exporter": "python",
   "pygments_lexer": "ipython3",
   "version": "3.6.4"
  }
 },
 "nbformat": 4,
 "nbformat_minor": 2
}
