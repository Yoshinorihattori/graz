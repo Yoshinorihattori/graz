{
 "cells": [
  {
   "cell_type": "code",
   "execution_count": 101,
   "metadata": {},
   "outputs": [],
   "source": [
    "import pandas as pd\n",
    "#calcuration libraries\n",
    "import numpy as np\n",
    "import pandas as pd\n",
    "import matplotlib.pyplot as plt\n",
    "import math\n",
    "import csv\n",
    "import os\n",
    "%matplotlib inline\n",
    "import time\n",
    "timestr = time.strftime(\"%d.%m.%Y_%H.%M.%S.\")"
   ]
  },
  {
   "cell_type": "code",
   "execution_count": 102,
   "metadata": {},
   "outputs": [
    {
     "name": "stdout",
     "output_type": "stream",
     "text": [
      "Daten_15.11.2018_11.09.22.txt\n",
      "Daten_15.11.2018_11.09.21.txt\n",
      ".DS_Store\n",
      "Daten_15.11.2018_11.09.26.txt\n",
      "Daten_15.11.2018_11.11.21.txt\n",
      "Daten_15.11.2018_11.11.20.txt\n",
      "Daten_15.11.2018_11.08.07.txt\n",
      "Daten_15.11.2018_11.11.00.txt\n",
      "Daten_15.11.2018_11.11.02.txt\n",
      "Daten_15.11.2018_11.11.10.txt\n",
      "Daten_15.11.2018_11.09.29.txt\n"
     ]
    }
   ],
   "source": [
    "for fname in os.listdir('pr10'):\n",
    "    df = pd.read_table('./pr10/' + fname, encoding='shift_jis')\n",
    "    df.to_csv('./pr10_csv/' + fname +'.csv')\n",
    "    print(fname)"
   ]
  },
  {
   "cell_type": "code",
   "execution_count": null,
   "metadata": {},
   "outputs": [],
   "source": []
  }
 ],
 "metadata": {
  "kernelspec": {
   "display_name": "Python 3",
   "language": "python",
   "name": "python3"
  },
  "language_info": {
   "codemirror_mode": {
    "name": "ipython",
    "version": 3
   },
   "file_extension": ".py",
   "mimetype": "text/x-python",
   "name": "python",
   "nbconvert_exporter": "python",
   "pygments_lexer": "ipython3",
   "version": "3.6.4"
  }
 },
 "nbformat": 4,
 "nbformat_minor": 2
}
