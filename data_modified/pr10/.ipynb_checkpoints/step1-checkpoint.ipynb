{
 "cells": [
  {
   "cell_type": "code",
   "execution_count": 1,
   "metadata": {},
   "outputs": [],
   "source": [
    "#calcuration libraries\n",
    "import numpy as np\n",
    "import pandas as pd\n",
    "import matplotlib.pyplot as plt\n",
    "import math\n",
    "import csv\n",
    "%matplotlib inline"
   ]
  },
  {
   "cell_type": "markdown",
   "metadata": {},
   "source": [
    "### Material properties"
   ]
  },
  {
   "cell_type": "code",
   "execution_count": 2,
   "metadata": {},
   "outputs": [],
   "source": [
    "A = 0.818;\n",
    "B = 3.664E-3;\n",
    "def cp(T):\n",
    "    cp = (A + B * (T+273.15));\n",
    "    return cp\n",
    "def cp_K(T):\n",
    "    cp_K = A + B * (T);\n",
    "    cp_K =  cp_K *1000;##???\n",
    "    return cp_K\n",
    "\n",
    "C = 0.157;\n",
    "D = -7.328E-5;\n",
    "def Lambda(T):\n",
    "    Lambda = C + D * (T+273.15);\n",
    "    return Lambda\n",
    "def Lambda_K(T):\n",
    "    Lambda_K = C + D * (T);\n",
    "    return Lambda_K\n",
    "\n",
    "E = 5.894E-5;\n",
    "F = 857.4;\n",
    "G = -172.2;\n",
    "def mu(T):\n",
    "    mu = E * np.exp( F / ( (T+273.15) + G) );\n",
    "    return mu\n",
    "def mu_K(T):\n",
    "    mu_K = E * np.exp( F / ( (T) + G) );\n",
    "    return mu_K\n",
    "\n",
    "H = 1045;\n",
    "I = -0.616;\n",
    "def rho(T):\n",
    "    rho = H + I * (T+273.15);\n",
    "    return rho\n",
    "def rho_K(T):\n",
    "    rho_K = H + I * (T);\n",
    "    return rho_K\n",
    "\n",
    "def nu(T):\n",
    "    nu = mu(T)/rho(T);\n",
    "    return nu\n",
    "def nu_K(T):\n",
    "    nu = mu_K(T)/rho_K(T);\n",
    "    return nu\n",
    "\n",
    "def Pr(T):\n",
    "    Pr = ( mu(T) * cp(T) * 1000 ) / Lambda(T);\n",
    "    return Pr\n",
    "def Pr_K(T):\n",
    "    Pr = ( mu_K(T) * cp_K(T)) / Lambda_K(T);\n",
    "    return Pr"
   ]
  },
  {
   "cell_type": "markdown",
   "metadata": {},
   "source": [
    "### read measurement data 6-115"
   ]
  },
  {
   "cell_type": "code",
   "execution_count": 3,
   "metadata": {},
   "outputs": [],
   "source": [
    "# 取り出したい列を（0始まりで）指定する．\n",
    "filename = './re230pr45_csv/Daten_19.11.2018_16.02.21.csv'\n",
    "data = np.array(pd.read_csv(filename, skiprows=0, encoding='shift-jis'))"
   ]
  },
  {
   "cell_type": "code",
   "execution_count": 4,
   "metadata": {},
   "outputs": [],
   "source": [
    "di=12E-3\n",
    "da=15E-3\n",
    "ri = di/2\n",
    "ra = da/2\n",
    "disoa = 90E-3\n",
    "L=2\n",
    "V=(da**2-di**2)*np.pi/4*L\n",
    "Ageo_MS = di*np.pi*L #円菅内部の試験部表面積\n",
    "Ugeo_MS = di*np.pi #円菅内面積\n",
    "Ageo_quer = di**2*np.pi/4\n",
    "\n",
    "Tsa = data[:,0] #Temperatur aussen: Ts_aussen / °C\n",
    "Tsi = data[:,1] #Temperatur innen: Ts innen / °C\n",
    "Ti = data[:,2] #Fluidtemperatur: T / °C\n",
    "m_dot_C1 = data[0,3] #Massenstrom: m_dot C1 / kg/h\n",
    "m_dot_C2 = data[0,4] #Massenstrom: m_dot C2 / kg/h\n",
    "\n",
    "Re_C1 = data[0,5] #Re C1 / -\n",
    "Re_C2 = data[0,6] #Re C2 / -\n",
    "\n",
    "v_C1 = data[0,7] #Geschwindigkeit: v C1 / m/s\n",
    "v_C2 = data[0,8] #Geschwindigkeit: v C2 / m/s\n",
    "\n",
    "U_MS = data[0,9] #Spannungsabfall Messstrecke: U_MS / V\n",
    "I_MS = data[0,10] #Strom Messstrecke: I_MS / A\n",
    "P_MS = data[0,11] #Leistung Messstrecke: P_MS / W\n",
    "\n",
    "q = data[0,12] #spzifische Leistung: q / W/m3\n",
    "P1 = data[0,13] #Druckmessung: P1 / Pa\n",
    "P2 = data[0,14] #Druckmessung: P2 / Pa\n",
    "dp = data[0,15] #Differenzdruck: dp / bar\n",
    "nu_Fluid = data[0,16] #kin. Viscositaet Fluid: nu / m2/s\n",
    "rho_Fluid = data[0,17] #Dichte Fluid: rho / kg/m3\n",
    "Lambda_Fluid = data[0,18] #Waermeleitfaehigkeit Fluid: lambda / W/mK\n",
    "cp_Fluid = data[0,19] #spez. Waermekapazitaet Fluid: cp /J/kgK\n",
    "Pr_Fluid = data[0,20] #Pr / -\n",
    "Lambda_Rohr = data[0,21] #Waermeleitfaehigkeit Rohr: lambda / W/mK\n",
    "Nu_Fluid = data[0,22] #Nu / -\n",
    "\n",
    "I1 = data[0,23] #Strom I / A\n",
    "U1 = data[0,24] #Spannung U / V\n",
    "\n",
    "dp_T1 = data[0,25] #Re_tau / - 関数名とtxtが合っていない？\n",
    "dp_T2 = data[0,26] #Re_tau_Pet / -　関数名とtxtが合っていない？\n",
    "dp_T3 = data[0,27] #dp Pet / Pa\n",
    "\n",
    "#Mittel (U*I) mean P / W\n",
    "Pm = data[0,28] #Mittel (U*I) mean P / W\n",
    "TPT100_a = data[:5,29] #PT100 T aussen(5 value)\n",
    "TPT100_i = data[:5,30] #PT100 T innen(5 value)\n",
    "TPT100_m = data[:5,31] #PT100 T mittel(5 value)\n",
    "\n",
    "NuPt100 = data[0,32] #Nu Pt100\n",
    "NuQm = data[0,33] #Nu Qm\n",
    "\n",
    "# zeta computation Einlesen\n",
    "ZRem100 = data[0,34] #zeta Re\n",
    "Zzeta100 = data[0,35] #zeta\n",
    "Zqm100 = data[0,36] #zeta qw\n",
    "\n",
    "TPT100_T5 = data[0,37] #PT100 T5"
   ]
  },
  {
   "cell_type": "markdown",
   "metadata": {},
   "source": [
    "### conduction equation for inner wall temperatuer 110-115"
   ]
  },
  {
   "cell_type": "code",
   "execution_count": 5,
   "metadata": {},
   "outputs": [],
   "source": [
    "#Lambda_K = 0.16\n",
    "DeltaK = 0.065E-3\n",
    "Lambda_N = 20\n",
    "Lambda_C = 0.16 #thermal conductivity[W/mK] of capton tape\n",
    "Lambda_iso = 0.055 #thermal conductivity[W/mK] of glass wool, outer isolation\n",
    "riso = 0.05 #thickness of isolation????????????\n",
    "\n",
    "#temperature distribution in pipe(ri << r << ra)\n",
    "def T1(r,qv,qzu,TN,Ta):\n",
    "    T1 = (qzu/(2*Lambda_N)*ra**2)*(0.5-0.5*(r/ra)**2+np.log(r/ra)) + Ta - qv/Lambda_N*(ra+DeltaK)*(Lambda_N/Lambda_C*np.log(ra/(ra+DeltaK))+np.log(r/ra))\n",
    "    return T1\n",
    "\n",
    "#temperature distribution in capton tape(ra << r << ra+DeltaK)\n",
    "def T2(r,qv,Ta):\n",
    "    T2 = - qv/Lambda_C*(ra+DeltaK)*np.log(r/(ra+DeltaK)) + Ta\n",
    "    return T2"
   ]
  },
  {
   "cell_type": "markdown",
   "metadata": {},
   "source": [
    "### Definition der Temperaturen und MesspositionenCoeff_lf 148-203"
   ]
  },
  {
   "cell_type": "code",
   "execution_count": 6,
   "metadata": {},
   "outputs": [],
   "source": [
    "x_pos_TPt100 = [1.970, 2.470, 2.970, 5.500, 0.05]\n",
    "xTin  = 0.05\n",
    "xTout = 5.50\n",
    "\n",
    "x_MS_in = 1.2\n",
    "x_MS_out = 3.2"
   ]
  },
  {
   "cell_type": "code",
   "execution_count": 7,
   "metadata": {},
   "outputs": [],
   "source": [
    "#TPT100 = np.zeros([5])#いらない？？？\n",
    "TPT100 = TPT100_i\n",
    "Tm_aus = TPT100[3];\n",
    "Tm = Tm_aus"
   ]
  },
  {
   "cell_type": "markdown",
   "metadata": {},
   "source": [
    "### iteration to update the temperatuer dependent material properties --> new wall temperature 205-339"
   ]
  },
  {
   "cell_type": "code",
   "execution_count": 8,
   "metadata": {},
   "outputs": [
    {
     "name": "stdout",
     "output_type": "stream",
     "text": [
      "[  2.639962   118.75516386]\n",
      "qvA=qhlm2\n",
      "[  2.639961   118.98726134]\n",
      "qvA=qhlm2\n"
     ]
    }
   ],
   "source": [
    "for i in range(2):\n",
    "    Tw = TPT100[2]\n",
    "    T_iso = Ti[1]\n",
    "    T_inf = Ti[6]\n",
    "\n",
    "    #Berechnung der Fluid Stoffwerte\n",
    "    Pr_w = Pr(Tw)\n",
    "    Pr_w     = Pr(Tw)\n",
    "    rho_w    = rho(Tw)\n",
    "    nu_w     = nu(Tw)\n",
    "    mu_w     = nu_w * rho_w\n",
    "    cp_w     = cp(Tw)\n",
    "    Lambda_w = Lambda(Tw)\n",
    "\n",
    "    Pr_m     = Pr(Tm)\n",
    "    rho_m    = rho(Tm)\n",
    "    nu_m     = nu(Tm)\n",
    "    mu_m     = nu_m * rho_m\n",
    "    cp_m     = cp(Tm)\n",
    "    Lambda_m = Lambda(Tm)\n",
    "    \n",
    "    #Korrektur mittel Temperatur\n",
    "    dqhldT = 1\n",
    "    zeta_mischer = 32.46\n",
    "\n",
    "    Thl = (Tw + Tm)*0.5 #!!!!!!!!!!!!!!!!\n",
    "    qhl = dqhldT * (Thl - T_iso)\n",
    "\n",
    "    qhlm2 = qhl / (da*np.pi*5.45)\n",
    "\n",
    "    Re_m = Re_C1;\n",
    "    Lambda_Pet = (1.8*np.log(Re_m)-1.5)**(-2) #Eq(4.17)??????????\n",
    "    \n",
    "    #Specific heat capasity, cp mean\n",
    "    T_in = TPT100[4] + 273.15\n",
    "    T_out = TPT100[3] + 273.15\n",
    "\n",
    "    Ac = 0.818\n",
    "    Bc = 3.664E-3\n",
    "    cpm = (Ac*(T_out-T_in)+Bc/2*(T_out**2-T_in**2))/(T_out-T_in)*1000 #Eq(2.108)\n",
    "\n",
    "    Wmean = Re_m*nu_m/di\n",
    "    mdot = m_dot_C1/3600\n",
    " \n",
    "    #TPT100[:3].transpose()?????????\n",
    "    fit = np.polyfit(x_pos_TPt100[:3],TPT100[:3],1)\n",
    "    print(fit)#?????????\n",
    "    gradT_PT100 = fit[0]\n",
    "    \n",
    "    Q_Pt100 = gradT_PT100*mdot*cpm*L\n",
    "    qUI = P_MS/Ageo_MS\n",
    "    dqw2 = (Lambda_Pet*(5.45-2.92)/di + zeta_mischer) * rho_m * Wmean**2/2 * Wmean * Ageo_quer - qhl*(5.45-2.53)/5.45\n",
    "    \n",
    "    Qin_out = mdot*cpm*(T_out-T_in)\n",
    "    dQ = Qin_out-P_MS\n",
    "    \n",
    "    #Q=m_dot * cp_m * DT\n",
    "    gradT = (Qin_out/L) / (mdot * cpm )\n",
    "    dTm = dqw2/(mdot*cpm)\n",
    "    SA_Tm = gradT*(x_MS_out-x_pos_TPt100[2])\n",
    "    \n",
    "    Tm_aus = TPT100[3] - dTm\n",
    "    Tm = Tm_aus - SA_Tm\n",
    "    \n",
    "    qw = Qin_out/ Ageo_MS\n",
    "    if(Qin_out>0):\n",
    "        qvA=qhlm2\n",
    "        print('qvA=qhlm2')\n",
    "    else:\n",
    "        qvA=0\n",
    "        print('qvA=0')\n",
    "        \n",
    "    Pr_w     = Pr(Tw)\n",
    "    rho_w    = rho(Tw)\n",
    "    nu_w     = nu(Tw)\n",
    "    mu_w     = nu_w * rho_w\n",
    "    cp_w     = cp(Tw)\n",
    "    Lambda_w = Lambda(Tw)\n",
    "\n",
    "    Pr_m     = Pr(Tm)\n",
    "    rho_m    = rho(Tm)\n",
    "    nu_m     = nu(Tm)\n",
    "    mu_m     = nu_m * rho_m\n",
    "    cp_m     = cp(Tm)\n",
    "    Lambda_m = Lambda(Tm)\n",
    "    \n",
    "    #P_spez_m2 = P_MS/A;\n",
    "    P=Pm\n",
    "    P=P_MS\n",
    "    \n",
    "    #Reynolds number[-]\n",
    "    Re_m = Re_C1\n",
    "    Re_w = Re_C2\n",
    "    \n",
    "    Re_m = m_dot_C1/3600*4/(nu_m*rho_m*di*np.pi)\n",
    "    Re_w = m_dot_C1/3600*4/(nu_w*rho_m*di*np.pi)\n",
    "    \n",
    "    #Wall temperature calibration\n",
    "    qVol = Qin_out / V\n",
    "\n",
    "    Tw = T1(ri,qvA,qVol,TPT100_a[2], TPT100_a[2]);\n",
    "    Tw_SA = T1(ri,qvA,qVol, TPT100_a[0], TPT100_a[0]);\n",
    "    Tw_SA2 = T1(ri,qvA,qVol, TPT100_a[1], TPT100_a[1]);\n",
    "\n",
    "    TPT100[2] = Tw\n",
    "    TPT100[0] = Tw_SA\n",
    "    TPT100[1] = Tw_SA2"
   ]
  },
  {
   "cell_type": "code",
   "execution_count": 9,
   "metadata": {},
   "outputs": [],
   "source": [
    "Nu_QmdotCpDt_w = qw * di / (Lambda_w * (Tw-Tm ))\n",
    "NuMessung = Nu_QmdotCpDt_w"
   ]
  },
  {
   "cell_type": "code",
   "execution_count": 10,
   "metadata": {},
   "outputs": [],
   "source": [
    "tau_w = dp*di/(1*4)\n",
    "w_tau=(tau_w/rho_m)**(1/2) #share velocity\n",
    "ReTau = w_tau*di/nu_w\n",
    "\n",
    "cf_M = tau_w/(rho_m*Wmean**2/2) #Friction coefficient Eq(4.8)"
   ]
  },
  {
   "cell_type": "code",
   "execution_count": 11,
   "metadata": {
    "scrolled": false
   },
   "outputs": [
    {
     "name": "stdout",
     "output_type": "stream",
     "text": [
      "T 368.5887 371.9132 126.5447 98.5895\n",
      "mdot 0.0940\n",
      "qw 9.0172e+03\n",
      "Re[-] 2.3042e+03 3.8245e+03 221.5982\n",
      "Pr[-] 72.7541 45.6452\n",
      "Nu 30.3085\n",
      "cf 0.0067\n"
     ]
    }
   ],
   "source": [
    "#桁数は四捨五入ではなく、「丸め」であることに注意\n",
    "print('T','{:.4f}'.format(T_in), '{:.4f}'.format(T_out), '{:.4f}'.format(Tw), '{:.4f}'.format(Tm))\n",
    "print('mdot', '{:.4f}'.format(mdot))\n",
    "print('qw', '{:.4e}'.format(qw))\n",
    "print(\"Re[-]\",'{:.4e}'.format(Re_m), '{:.4e}'.format(Re_w), '{:.4f}'.format(ReTau))\n",
    "print('Pr[-]', '{:.4f}'.format(Pr_m), '{:.4f}'.format(Pr_w))\n",
    "print('Nu','{:.4f}'.format(NuMessung))\n",
    "print('cf','{:.4f}'.format(cf_M))"
   ]
  },
  {
   "cell_type": "markdown",
   "metadata": {},
   "source": [
    "### Measurement uncertainty Ref. Bertsche2016"
   ]
  },
  {
   "cell_type": "code",
   "execution_count": 12,
   "metadata": {},
   "outputs": [],
   "source": [
    "#### absolute error\n",
    "#PT100 [K]\n",
    "T_e = 0.2\n",
    "#mass flow rate [kg / s]\n",
    "mdot_e = 0.20E-3 * mdot\n",
    "#pressure[Pa]\n",
    "p_e = 0.35E-3 * dp #dpでいいの???????????\n",
    "#density [kg / m^3]\n",
    "rho_e = 0.13\n",
    "#specific heat capasity [J / kg K]\n",
    "cp_e = 0.73\n",
    "#thermal conductivity of fluid [W / m K]\n",
    "Lambda_e = 1.56E-5"
   ]
  },
  {
   "cell_type": "code",
   "execution_count": 13,
   "metadata": {},
   "outputs": [
    {
     "name": "stdout",
     "output_type": "stream",
     "text": [
      "4e-08\n",
      "0.11212731535971969\n",
      "1.4453555119875319e-08\n",
      "9.286664255225298e-05\n",
      "10.153142235672897\n"
     ]
    }
   ],
   "source": [
    "#Uncertainty in each measurement influencing\n",
    "delta_mdot = (mdot_e / mdot)**2\n",
    "delta_cp = (cp_e/cp_m)**2 #cpm、cp_mどちら？\n",
    "delta_Lambda = (Lambda_e/Lambda_m)**2\n",
    "delta_T = (T_e/(T_in-Tm))**2 + ((T_e * (T_in-Tw)) / ((T_in-Tm)*(Tm-Tw)))**2 + (T_e/(Tm-Tw) )**2#T_outは影響しない？\n",
    "#Measurement uncertainty for NuMessung\n",
    "delta_NuMessung = (delta_mdot + delta_cp + delta_Lambda + delta_T)**(1/2) * NuMessung\n",
    "#Reduction of the uncertainty of the cp calibration is the most effective, in order to reduce the uncertainty of Nu.\n",
    "print(delta_mdot)\n",
    "print(delta_cp)#dominating part\n",
    "print(delta_Lambda)\n",
    "print(delta_T)\n",
    "print(delta_NuMessung)"
   ]
  },
  {
   "cell_type": "code",
   "execution_count": 14,
   "metadata": {},
   "outputs": [
    {
     "name": "stdout",
     "output_type": "stream",
     "text": [
      "1.225e-07\n",
      "2.538033588248258e-08\n",
      "4e-08\n",
      "3.1813949634824333e-06\n"
     ]
    }
   ],
   "source": [
    "#Uncertainty in each measurement influencing\n",
    "delta_p = (p_e / dp)**2\n",
    "delta_rho = (rho_e / rho_m)**2\n",
    "#Measurement uncertainty for cf_M\n",
    "delta_cf_M = (delta_p + delta_rho + (2*delta_mdot))**(1/2) * cf_M\n",
    "#Reduction of the uncertainty of the p calibration is the most effective, in order to reduce the uncertainty of cf.\n",
    "print(delta_p)#dominating part\n",
    "print(delta_rho)\n",
    "print(delta_mdot)\n",
    "print(delta_cf_M)"
   ]
  },
  {
   "cell_type": "code",
   "execution_count": 15,
   "metadata": {},
   "outputs": [
    {
     "name": "stdout",
     "output_type": "stream",
     "text": [
      "FileName: List_29.06.2019_16.11.53.csv\n"
     ]
    }
   ],
   "source": [
    "# データフレームを作成\n",
    "df = pd.DataFrame([\n",
    "    [filename, T_in, T_out, Tw + 273.15, Tm + 273.15, mdot, qw, Re_m, Re_w, ReTau, Pr_m, Pr_w, NuMessung, cf_M, delta_NuMessung, delta_cf_M]],\n",
    "    columns=['Data_name', 'Tb0', 'Tb1', 'Tw', 'Tm', 'm_dot', 'qw', 'Reb', 'Rew', 'ReTau'\n",
    "             , 'Prb', 'Prw', 'Nu', 'cf', 'delta_Nu', 'delta_cf'])\n",
    "\n",
    "import time\n",
    "timestr = time.strftime(\"%d.%m.%Y_%H.%M.%S.\")\n",
    "df.to_csv('./List_' + timestr + 'csv')\n",
    "print('FileName:','List_' + timestr + 'csv')"
   ]
  },
  {
   "cell_type": "code",
   "execution_count": null,
   "metadata": {},
   "outputs": [],
   "source": []
  }
 ],
 "metadata": {
  "kernelspec": {
   "display_name": "Python 3",
   "language": "python",
   "name": "python3"
  },
  "language_info": {
   "codemirror_mode": {
    "name": "ipython",
    "version": 3
   },
   "file_extension": ".py",
   "mimetype": "text/x-python",
   "name": "python",
   "nbconvert_exporter": "python",
   "pygments_lexer": "ipython3",
   "version": "3.6.4"
  }
 },
 "nbformat": 4,
 "nbformat_minor": 2
}
