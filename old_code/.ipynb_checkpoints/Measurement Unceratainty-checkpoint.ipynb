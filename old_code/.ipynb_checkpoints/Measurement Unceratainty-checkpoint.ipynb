{
 "cells": [
  {
   "cell_type": "code",
   "execution_count": 96,
   "metadata": {},
   "outputs": [],
   "source": [
    "#calcuration libraries\n",
    "import numpy as np\n",
    "import matplotlib.pyplot as plt\n",
    "import math\n",
    "%matplotlib inline"
   ]
  },
  {
   "cell_type": "code",
   "execution_count": 97,
   "metadata": {},
   "outputs": [],
   "source": [
    "#CASE Re=4275, Nu=59\n",
    "#PT100 [K]\n",
    "T_b0 = 438.25\n",
    "T_b1 = 446.85\n",
    "T_w  = 472.45\n",
    "#mass flow rate [kg/s]\n",
    "m_dot = 0.054\n",
    "#specific heat capasity [J / kg K]\n",
    "Cp_b0 = 818 + 3664 * 10**(-3) * T_b0\n",
    "#thermal conductivity [W / m K]\n",
    "lamda_f = 0.157 - 7.328*10**(-5) * T_b0"
   ]
  },
  {
   "cell_type": "code",
   "execution_count": 98,
   "metadata": {},
   "outputs": [
    {
     "data": {
      "text/plain": [
       "56.033715898532726"
      ]
     },
     "execution_count": 98,
     "metadata": {},
     "output_type": "execute_result"
    }
   ],
   "source": [
    "d = 12 * 10**(-3)\n",
    "L = 2\n",
    "m_dot*Cp_b0*(T_b1-T_b0) / (lamda_f * (T_w - T_b1) * np.pi * L)"
   ]
  },
  {
   "cell_type": "code",
   "execution_count": 99,
   "metadata": {},
   "outputs": [],
   "source": [
    "#CASE Re=6172, Nu=89\n",
    "#PT100 [K]\n",
    "T_b0 = 443.58\n",
    "T_b1 = 452.87\n",
    "T_w  = 478.97\n",
    "#mass flow rate [kg/s]\n",
    "m_dot = 0.073\n",
    "#specific heat capasity [J / kg K]\n",
    "Cp_b0 = 818 + 3664 * 10**(-3) * T_b0\n",
    "#thermal conductivity [W / m K]\n",
    "lamda_f = 0.157 - 7.328*10**(-5) * T_b0"
   ]
  },
  {
   "cell_type": "code",
   "execution_count": 101,
   "metadata": {},
   "outputs": [
    {
     "data": {
      "text/plain": [
       "81.15978896482953"
      ]
     },
     "execution_count": 101,
     "metadata": {},
     "output_type": "execute_result"
    }
   ],
   "source": [
    "d = 12 * 10**(-3)\n",
    "L = 2\n",
    "m_dot*Cp_b0*(T_b1-T_b0) / (lamda_f * (T_w - T_b1) * np.pi * L)"
   ]
  },
  {
   "cell_type": "code",
   "execution_count": 84,
   "metadata": {},
   "outputs": [],
   "source": [
    "#absolute error\n",
    "#PT100 [K]\n",
    "T_e = 0.2\n",
    "#mass flow rate [kg/s]\n",
    "m_dot_e = 0.20E-3*m_dot\n",
    "#specific heat capasity [J / kg K]\n",
    "Cp_b0_e = 0.73\n",
    "#thermal conductivity [W / m K]\n",
    "lamda_f_e = 1.56E-5"
   ]
  },
  {
   "cell_type": "code",
   "execution_count": 85,
   "metadata": {},
   "outputs": [
    {
     "name": "stdout",
     "output_type": "stream",
     "text": [
      "4e-08\n",
      "9.071326379202791e-08\n",
      "1.5603727674726558e-08\n",
      "0.0005408328826392617\n",
      "0.0009652401319125173\n",
      "6.103515625000016e-05\n"
     ]
    }
   ],
   "source": [
    "print((m_dot_e/m_dot)**2)\n",
    "print((Cp_b0_e/Cp_b0)**2)\n",
    "print((lamda_f_e/lamda_f)**2)\n",
    "print((T_e/(T_b0 - T_b1))**2)\n",
    "print(((T_e * (T_b0 - T_w)) / ((T_b0 - T_b1)*(T_b1-T_w)))**2)\n",
    "print((T_e/(T_b1-T_w) )**2)"
   ]
  },
  {
   "cell_type": "code",
   "execution_count": 86,
   "metadata": {},
   "outputs": [],
   "source": [
    "d_nu = ((m_dot_e/m_dot)**2 + (Cp_b0_e/Cp_b0)**2 + (lamda_f_e/lamda_f)**2 + (T_e/(T_b0 - T_b1))**2 + ((T_e * (T_b0 - T_w)) / ((T_b0 - T_b1)*(T_b1-T_w)))**2 + (T_e/(T_b1-T_w) )**2)**(1/2)                                    "
   ]
  },
  {
   "cell_type": "code",
   "execution_count": 87,
   "metadata": {},
   "outputs": [
    {
     "name": "stdout",
     "output_type": "stream",
     "text": [
      "0.03958856511409887\n"
     ]
    }
   ],
   "source": [
    "print(d_nu)"
   ]
  },
  {
   "cell_type": "code",
   "execution_count": 88,
   "metadata": {},
   "outputs": [
    {
     "data": {
      "text/plain": [
       "13.222580748109023"
      ]
     },
     "execution_count": 88,
     "metadata": {},
     "output_type": "execute_result"
    }
   ],
   "source": [
    "d_nu * 334"
   ]
  },
  {
   "cell_type": "code",
   "execution_count": null,
   "metadata": {},
   "outputs": [],
   "source": []
  }
 ],
 "metadata": {
  "kernelspec": {
   "display_name": "Python 3",
   "language": "python",
   "name": "python3"
  },
  "language_info": {
   "codemirror_mode": {
    "name": "ipython",
    "version": 3
   },
   "file_extension": ".py",
   "mimetype": "text/x-python",
   "name": "python",
   "nbconvert_exporter": "python",
   "pygments_lexer": "ipython3",
   "version": "3.6.4"
  }
 },
 "nbformat": 4,
 "nbformat_minor": 2
}
