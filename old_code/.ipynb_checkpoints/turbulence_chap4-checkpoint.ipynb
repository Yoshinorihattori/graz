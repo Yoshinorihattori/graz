{
 "cells": [
  {
   "cell_type": "code",
   "execution_count": 169,
   "metadata": {
    "collapsed": true
   },
   "outputs": [],
   "source": [
    "#calcuration libraries\n",
    "import numpy as np\n",
    "import matplotlib.pyplot as plt\n",
    "import math\n",
    "%matplotlib inline"
   ]
  },
  {
   "cell_type": "markdown",
   "metadata": {},
   "source": [
    "### 4.2. Phenomenology"
   ]
  },
  {
   "cell_type": "markdown",
   "metadata": {
    "collapsed": true
   },
   "source": [
    "N.S.Equ (Three-dimensional)の解について議論する．  \n",
    "Fig.4.5.はLeonardo da Vinciのタンクに入る水の乱流流れのスケッチ．流れはカオスのように見えるが，ランダムではない．確かに渦のような構造（eddies）の中に乱流は存在する．  \n",
    "∴ 隣り合う２つの速度を測ると時間と距離の関数に相互関係がある．(この関係はランダムな現象では見ることができない)\n",
    "\n",
    "__ 乱流はdimensionが変化するカオス渦のような構造を含む．__"
   ]
  },
  {
   "cell_type": "markdown",
   "metadata": {},
   "source": [
    "### Macrostructure\n",
    "\n",
    "Macrostructureは長さスケールL，速度スケールUに関係し，それらのスケールは流れのgeometryに関連する．まず最初にU,Lの特性を示し，その後の章でMicrostructureに移る．  \n",
    "乱流のRe数は大きいので非線形プロセスがMacrostructureでは支配的である．  \n",
    "Viscos effects are negligible at this scale, Re->infinity\n",
    "\n",
    "__Macrostructure is independent of the Re and viscosity, nu (fluid property)... Reynolds similarity.__"
   ]
  },
  {
   "cell_type": "markdown",
   "metadata": {},
   "source": [
    "__o Dissipative 散逸 (quickly loses its kinetic energy -> decay)__\n",
    "\n",
    "Kinetic energy per unit mass: e ~ U^2\n",
    "\n",
    "__Macrostructure contains most of kinetic energy.__\n",
    "\n",
    "(4.14)...Kolmogorov relation\n",
    "\n",
    "乱流渦エネルギーU^2は不安定に小さな渦にエネルギーが失われる．  \n",
    "o 時間スケールT~L/U  \n",
    "o 渦が壊れる間の時間T"
   ]
  },
  {
   "cell_type": "markdown",
   "metadata": {},
   "source": [
    "__ o Diffusivity 拡散性 (Effectivity in mixing a fluid)__  \n",
    "Effective mixing is relted to the macrostructure.\n",
    "\n",
    "Diffusion in turbulent flow can be described using a __diffusion equ__  \n",
    "-> diffusion coefficient K ~ UL ...(4.16)  \n",
    "Turbulent diffusion coefficients, K >> kappa, molecular diffusion coefficient"
   ]
  },
  {
   "cell_type": "code",
   "execution_count": null,
   "metadata": {
    "collapsed": true
   },
   "outputs": [],
   "source": []
  }
 ],
 "metadata": {
  "kernelspec": {
   "display_name": "Python 3",
   "language": "python",
   "name": "python3"
  },
  "language_info": {
   "codemirror_mode": {
    "name": "ipython",
    "version": 3
   },
   "file_extension": ".py",
   "mimetype": "text/x-python",
   "name": "python",
   "nbconvert_exporter": "python",
   "pygments_lexer": "ipython3",
   "version": "3.5.3"
  }
 },
 "nbformat": 4,
 "nbformat_minor": 2
}
