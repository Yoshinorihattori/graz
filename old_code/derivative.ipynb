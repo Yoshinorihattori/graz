{
 "cells": [
  {
   "cell_type": "markdown",
   "metadata": {},
   "source": [
    "## 導関数の差分近似\n",
    "\n",
    "連続な関数 $f(x)$ の導関数$\\frac{df(x)}{dx}$ を求めたい．\n",
    "$f(x)$を離散化した関数 $f_i = f(x_i)$ から，$x = x_i$ における導関数 $f^\\prime = \\left.\\frac{df}{dx}\\right|_{x = x_i}$を近似的に求めよう．"
   ]
  },
  {
   "cell_type": "code",
   "execution_count": 1,
   "metadata": {
    "collapsed": true
   },
   "outputs": [],
   "source": [
    "# 数値計算と可視化のライブラリ読み込み\n",
    "import numpy as np\n",
    "import matplotlib.pyplot as plt\n",
    "%matplotlib inline"
   ]
  },
  {
   "cell_type": "markdown",
   "metadata": {},
   "source": [
    "### Taylor展開の復習\n",
    "\n",
    "無限回微分可能で連続な関数$f(x)$について，基準となる $x_0$ から少し離れた $x_0+\\Delta x$における値$f(x_0 + \\Delta x)$は，$x = x_0$ における $f(x)$に関する情報から以下のように求めることができる．\n",
    "\n",
    "$$\n",
    "f(x_0+\\Delta x) = f(x_0)+\\sum_{n = 1}^{\\infty} \\frac{1}{n!}\\frac{{\\rm d} f(x_0)}{{\\rm d} x} \\Delta x\n",
    "$$\n",
    "\n",
    "$$\n",
    "=f(x_0)\n",
    "\\!+\\!\\frac{{\\rm d} f(x_0)}{{\\rm d} x} \\Delta x\n",
    "\\!+\\!\\frac{1}{2}\\frac{{\\rm d}^2 f(x_0)}{{\\rm d} x^2} \\Delta x^2\n",
    "\\!+\\!\\frac{1}{6}\\frac{{\\rm d}^3 f(x_0)}{{\\rm d} x^3} \\Delta x^3\n",
    "\\!+\\!{\\cal O}(\\Delta x^4)\n",
    "$$\n",
    "\n",
    "以下の実例で実感してみよう．"
   ]
  },
  {
   "cell_type": "code",
   "execution_count": 2,
   "metadata": {},
   "outputs": [
    {
     "name": "stdout",
     "output_type": "stream",
     "text": [
      "sin(0.1) is approximately equal to 0.09983333333333334\n",
      "sin(0.1) = 0.09983341664682815\n"
     ]
    }
   ],
   "source": [
    "# sin(0.1)を求めよ．\n",
    "# sin(0) = 0, cos(0) = 1\n",
    "dx = 0.1\n",
    "f = 0 + 1 * dx + 1/2 * 0 * dx**2 + 1/6 * (-1) * dx**3 + 1/24 * 0 * dx**4\n",
    "\n",
    "print('sin(0.1) is approximately equal to', f)\n",
    "print('sin(0.1) =', np.sin(0.1))"
   ]
  },
  {
   "cell_type": "code",
   "execution_count": 3,
   "metadata": {},
   "outputs": [
    {
     "name": "stdout",
     "output_type": "stream",
     "text": [
      "exp(-0.1) is approximately equal to 1\n",
      "exp(-0.1) = 0.9048374180359595\n"
     ]
    }
   ],
   "source": [
    "# exp(-0.1)を求めよ．\n",
    "# exp(0) = 1\n",
    "# d/dx (exp(x)) = exp(x)\n",
    "dx = -0.1\n",
    "f = 1\n",
    "\n",
    "print('exp(-0.1) is approximately equal to', f)\n",
    "print('exp(-0.1) =', np.exp(-0.1))"
   ]
  },
  {
   "cell_type": "markdown",
   "metadata": {},
   "source": [
    "### 導関数の差分近似\n",
    "\n",
    "$x_i = x_0+i*\\Delta x$ として， $f_i = f(x_i)$ を定める．\n",
    "$f^\\prime_i = \\left.\\frac{df}{dx}\\right|_{x = x_i}$ を $f_{i-1}$, $f_i$, $f_{i+1}$ を使って近似的に求めるには？\n",
    "\n",
    "前進差分：\n",
    "$$\n",
    "f^\\prime_i = \\left.\\frac{df}{dx}\\right|_{x = x_i} \\simeq \\frac{f_{i+1}-f_i}{\\Delta x}\n",
    "$$\n",
    "\n",
    "後退差分：\n",
    "$$\n",
    "f^\\prime_i = \\left.\\frac{df}{dx}\\right|_{x = x_i} \\simeq \\frac{f_i-f_{i-1}}{\\Delta x}\n",
    "$$\n",
    "\n",
    "中心差分：\n",
    "$$\n",
    "f^\\prime_i = \\left.\\frac{df}{dx}\\right|_{x = x_i} \\simeq \\frac{f_{i+1}-f_{i-1}}{2 \\Delta x}\n",
    "$$"
   ]
  },
  {
   "cell_type": "code",
   "execution_count": 1,
   "metadata": {},
   "outputs": [
    {
     "ename": "NameError",
     "evalue": "name 'np' is not defined",
     "output_type": "error",
     "traceback": [
      "\u001b[0;31m---------------------------------------------------------------------------\u001b[0m",
      "\u001b[0;31mNameError\u001b[0m                                 Traceback (most recent call last)",
      "\u001b[0;32m<ipython-input-1-bbaf5f98fc7c>\u001b[0m in \u001b[0;36m<module>\u001b[0;34m()\u001b[0m\n\u001b[1;32m      2\u001b[0m \u001b[0;34m\u001b[0m\u001b[0m\n\u001b[1;32m      3\u001b[0m \u001b[0mnGrid\u001b[0m \u001b[0;34m=\u001b[0m \u001b[0;36m12\u001b[0m \u001b[0;31m# グリッド数\u001b[0m\u001b[0;34m\u001b[0m\u001b[0m\n\u001b[0;32m----> 4\u001b[0;31m \u001b[0mx\u001b[0m \u001b[0;34m=\u001b[0m \u001b[0mnp\u001b[0m\u001b[0;34m.\u001b[0m\u001b[0mlinspace\u001b[0m\u001b[0;34m(\u001b[0m\u001b[0;36m0\u001b[0m\u001b[0;34m,\u001b[0m \u001b[0;36m2\u001b[0m\u001b[0;34m*\u001b[0m\u001b[0mnp\u001b[0m\u001b[0;34m.\u001b[0m\u001b[0mpi\u001b[0m\u001b[0;34m,\u001b[0m \u001b[0mnum\u001b[0m\u001b[0;34m=\u001b[0m\u001b[0mnGrid\u001b[0m\u001b[0;34m)\u001b[0m\u001b[0;34m\u001b[0m\u001b[0m\n\u001b[0m\u001b[1;32m      5\u001b[0m \u001b[0mdx\u001b[0m \u001b[0;34m=\u001b[0m \u001b[0mx\u001b[0m\u001b[0;34m[\u001b[0m\u001b[0;36m1\u001b[0m\u001b[0;34m]\u001b[0m \u001b[0;34m-\u001b[0m \u001b[0mx\u001b[0m\u001b[0;34m[\u001b[0m\u001b[0;36m0\u001b[0m\u001b[0;34m]\u001b[0m\u001b[0;34m\u001b[0m\u001b[0m\n\u001b[1;32m      6\u001b[0m \u001b[0mf\u001b[0m \u001b[0;34m=\u001b[0m \u001b[0mnp\u001b[0m\u001b[0;34m.\u001b[0m\u001b[0msin\u001b[0m\u001b[0;34m(\u001b[0m\u001b[0mx\u001b[0m\u001b[0;34m)\u001b[0m\u001b[0;34m\u001b[0m\u001b[0m\n",
      "\u001b[0;31mNameError\u001b[0m: name 'np' is not defined"
     ]
    }
   ],
   "source": [
    "# xとf(x)をつくる\n",
    "\n",
    "nGrid = 12 # グリッド数\n",
    "x = np.linspace(0, 2*np.pi, num=nGrid)\n",
    "dx = x[1] - x[0]\n",
    "f = np.sin(x)\n",
    "plt.plot(x, f, 'o-')"
   ]
  },
  {
   "cell_type": "code",
   "execution_count": 5,
   "metadata": {},
   "outputs": [
    {
     "data": {
      "text/plain": [
       "[<matplotlib.lines.Line2D at 0x1124087f0>]"
      ]
     },
     "execution_count": 5,
     "metadata": {},
     "output_type": "execute_result"
    },
    {
     "data": {
      "image/png": "[encoded data removed]",
      "text/plain": [
       "<matplotlib.figure.Figure at 0x10f00cb38>"
      ]
     },
     "metadata": {},
     "output_type": "display_data"
    }
   ],
   "source": [
    "# df/dxを作る\n",
    "\n",
    "f_prime = np.zeros(x.shape)\n",
    "for i_ in range(len(f_prime)-1):\n",
    "    f_prime[i_] = f[i_]\n",
    "plt.plot(x, f_prime, 'o-')"
   ]
  },
  {
   "cell_type": "code",
   "execution_count": 6,
   "metadata": {},
   "outputs": [
    {
     "data": {
      "text/plain": [
       "<matplotlib.legend.Legend at 0x1124ec438>"
      ]
     },
     "execution_count": 6,
     "metadata": {},
     "output_type": "execute_result"
    },
    {
     "data": {
      "image/png": "[encoded data removed]",
      "text/plain": [
       "<matplotlib.figure.Figure at 0x10f06c390>"
      ]
     },
     "metadata": {},
     "output_type": "display_data"
    }
   ],
   "source": [
    "# df/dxを作る（前進・後退・中心）\n",
    "\n",
    "f_prime_forward = np.zeros(x.shape)\n",
    "f_prime_backward = np.zeros(x.shape)\n",
    "f_prime_central = np.zeros(x.shape)\n",
    "\n",
    "for i_ in range(len(f_prime)-1):\n",
    "    f_prime_forward[i_] = f[i_]\n",
    "\n",
    "for i_ in range(1, len(f_prime)):\n",
    "    f_prime_backward[i_] = f[i_]\n",
    "\n",
    "for i_ in range(1, len(f_prime)-1):\n",
    "    f_prime_central[i_] = f[i_]\n",
    "\n",
    "plt.plot(x, f_prime_forward, 'o-', label='forward')\n",
    "plt.plot(x, f_prime_backward, 'o-', label='backward')\n",
    "plt.plot(x, f_prime_central, 'o-', label='central')\n",
    "plt.plot(x, np.cos(x), 'o-', label='exact')\n",
    "plt.legend(loc=[0.7, 0.0])"
   ]
  },
  {
   "cell_type": "code",
   "execution_count": null,
   "metadata": {
    "collapsed": true
   },
   "outputs": [],
   "source": []
  }
 ],
 "metadata": {
  "anaconda-cloud": {},
  "kernelspec": {
   "display_name": "Python 3",
   "language": "python",
   "name": "python3"
  },
  "language_info": {
   "codemirror_mode": {
    "name": "ipython",
    "version": 3
   },
   "file_extension": ".py",
   "mimetype": "text/x-python",
   "name": "python",
   "nbconvert_exporter": "python",
   "pygments_lexer": "ipython3",
   "version": "3.5.3"
  }
 },
 "nbformat": 4,
 "nbformat_minor": 1
}
